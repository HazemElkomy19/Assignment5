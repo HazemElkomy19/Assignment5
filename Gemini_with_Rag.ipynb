{
  "cells": [
    {
      "cell_type": "markdown",
      "metadata": {
        "id": "view-in-github",
        "colab_type": "text"
      },
      "source": [
        "<a href=\"https://colab.research.google.com/github/HazemElkomy19/Assignment5/blob/main/Gemini_with_Rag.ipynb\" target=\"_parent\"><img src=\"https://colab.research.google.com/assets/colab-badge.svg\" alt=\"Open In Colab\"/></a>"
      ]
    },
    {
      "cell_type": "markdown",
      "id": "ad9b4b85-9d17-468c-b244-73a1c5191e3e",
      "metadata": {
        "id": "ad9b4b85-9d17-468c-b244-73a1c5191e3e"
      },
      "source": [
        "# RAG application built on gemini"
      ]
    },
    {
      "cell_type": "code",
      "source": [
        "!pip install -q langchain-community langchain-chroma langchain-google-genai python-dotenv"
      ],
      "metadata": {
        "id": "UJBqR_1XzfI3"
      },
      "id": "UJBqR_1XzfI3",
      "execution_count": null,
      "outputs": []
    },
    {
      "cell_type": "code",
      "source": [
        "!pip install langchain-community"
      ],
      "metadata": {
        "id": "bo3oCTd50D1R",
        "outputId": "fd6496bb-ad45-49bf-e1eb-16a79a367597",
        "colab": {
          "base_uri": "https://localhost:8080/"
        }
      },
      "id": "bo3oCTd50D1R",
      "execution_count": 1,
      "outputs": [
        {
          "output_type": "stream",
          "name": "stdout",
          "text": [
            "Collecting langchain-community\n",
            "  Downloading langchain_community-0.3.27-py3-none-any.whl.metadata (2.9 kB)\n",
            "Requirement already satisfied: langchain-core<1.0.0,>=0.3.66 in /usr/local/lib/python3.11/dist-packages (from langchain-community) (0.3.72)\n",
            "Requirement already satisfied: langchain<1.0.0,>=0.3.26 in /usr/local/lib/python3.11/dist-packages (from langchain-community) (0.3.27)\n",
            "Requirement already satisfied: SQLAlchemy<3,>=1.4 in /usr/local/lib/python3.11/dist-packages (from langchain-community) (2.0.42)\n",
            "Requirement already satisfied: requests<3,>=2 in /usr/local/lib/python3.11/dist-packages (from langchain-community) (2.32.3)\n",
            "Requirement already satisfied: PyYAML>=5.3 in /usr/local/lib/python3.11/dist-packages (from langchain-community) (6.0.2)\n",
            "Requirement already satisfied: aiohttp<4.0.0,>=3.8.3 in /usr/local/lib/python3.11/dist-packages (from langchain-community) (3.12.15)\n",
            "Requirement already satisfied: tenacity!=8.4.0,<10,>=8.1.0 in /usr/local/lib/python3.11/dist-packages (from langchain-community) (8.5.0)\n",
            "Collecting dataclasses-json<0.7,>=0.5.7 (from langchain-community)\n",
            "  Downloading dataclasses_json-0.6.7-py3-none-any.whl.metadata (25 kB)\n",
            "Collecting pydantic-settings<3.0.0,>=2.4.0 (from langchain-community)\n",
            "  Downloading pydantic_settings-2.10.1-py3-none-any.whl.metadata (3.4 kB)\n",
            "Requirement already satisfied: langsmith>=0.1.125 in /usr/local/lib/python3.11/dist-packages (from langchain-community) (0.4.12)\n",
            "Collecting httpx-sse<1.0.0,>=0.4.0 (from langchain-community)\n",
            "  Downloading httpx_sse-0.4.1-py3-none-any.whl.metadata (9.4 kB)\n",
            "Requirement already satisfied: numpy>=1.26.2 in /usr/local/lib/python3.11/dist-packages (from langchain-community) (2.0.2)\n",
            "Requirement already satisfied: aiohappyeyeballs>=2.5.0 in /usr/local/lib/python3.11/dist-packages (from aiohttp<4.0.0,>=3.8.3->langchain-community) (2.6.1)\n",
            "Requirement already satisfied: aiosignal>=1.4.0 in /usr/local/lib/python3.11/dist-packages (from aiohttp<4.0.0,>=3.8.3->langchain-community) (1.4.0)\n",
            "Requirement already satisfied: attrs>=17.3.0 in /usr/local/lib/python3.11/dist-packages (from aiohttp<4.0.0,>=3.8.3->langchain-community) (25.3.0)\n",
            "Requirement already satisfied: frozenlist>=1.1.1 in /usr/local/lib/python3.11/dist-packages (from aiohttp<4.0.0,>=3.8.3->langchain-community) (1.7.0)\n",
            "Requirement already satisfied: multidict<7.0,>=4.5 in /usr/local/lib/python3.11/dist-packages (from aiohttp<4.0.0,>=3.8.3->langchain-community) (6.6.3)\n",
            "Requirement already satisfied: propcache>=0.2.0 in /usr/local/lib/python3.11/dist-packages (from aiohttp<4.0.0,>=3.8.3->langchain-community) (0.3.2)\n",
            "Requirement already satisfied: yarl<2.0,>=1.17.0 in /usr/local/lib/python3.11/dist-packages (from aiohttp<4.0.0,>=3.8.3->langchain-community) (1.20.1)\n",
            "Collecting marshmallow<4.0.0,>=3.18.0 (from dataclasses-json<0.7,>=0.5.7->langchain-community)\n",
            "  Downloading marshmallow-3.26.1-py3-none-any.whl.metadata (7.3 kB)\n",
            "Collecting typing-inspect<1,>=0.4.0 (from dataclasses-json<0.7,>=0.5.7->langchain-community)\n",
            "  Downloading typing_inspect-0.9.0-py3-none-any.whl.metadata (1.5 kB)\n",
            "Requirement already satisfied: langchain-text-splitters<1.0.0,>=0.3.9 in /usr/local/lib/python3.11/dist-packages (from langchain<1.0.0,>=0.3.26->langchain-community) (0.3.9)\n",
            "Requirement already satisfied: pydantic<3.0.0,>=2.7.4 in /usr/local/lib/python3.11/dist-packages (from langchain<1.0.0,>=0.3.26->langchain-community) (2.11.7)\n",
            "Requirement already satisfied: jsonpatch<2.0,>=1.33 in /usr/local/lib/python3.11/dist-packages (from langchain-core<1.0.0,>=0.3.66->langchain-community) (1.33)\n",
            "Requirement already satisfied: typing-extensions>=4.7 in /usr/local/lib/python3.11/dist-packages (from langchain-core<1.0.0,>=0.3.66->langchain-community) (4.14.1)\n",
            "Requirement already satisfied: packaging>=23.2 in /usr/local/lib/python3.11/dist-packages (from langchain-core<1.0.0,>=0.3.66->langchain-community) (25.0)\n",
            "Requirement already satisfied: httpx<1,>=0.23.0 in /usr/local/lib/python3.11/dist-packages (from langsmith>=0.1.125->langchain-community) (0.28.1)\n",
            "Requirement already satisfied: orjson>=3.9.14 in /usr/local/lib/python3.11/dist-packages (from langsmith>=0.1.125->langchain-community) (3.11.1)\n",
            "Requirement already satisfied: requests-toolbelt>=1.0.0 in /usr/local/lib/python3.11/dist-packages (from langsmith>=0.1.125->langchain-community) (1.0.0)\n",
            "Requirement already satisfied: zstandard>=0.23.0 in /usr/local/lib/python3.11/dist-packages (from langsmith>=0.1.125->langchain-community) (0.23.0)\n",
            "Collecting python-dotenv>=0.21.0 (from pydantic-settings<3.0.0,>=2.4.0->langchain-community)\n",
            "  Downloading python_dotenv-1.1.1-py3-none-any.whl.metadata (24 kB)\n",
            "Requirement already satisfied: typing-inspection>=0.4.0 in /usr/local/lib/python3.11/dist-packages (from pydantic-settings<3.0.0,>=2.4.0->langchain-community) (0.4.1)\n",
            "Requirement already satisfied: charset-normalizer<4,>=2 in /usr/local/lib/python3.11/dist-packages (from requests<3,>=2->langchain-community) (3.4.2)\n",
            "Requirement already satisfied: idna<4,>=2.5 in /usr/local/lib/python3.11/dist-packages (from requests<3,>=2->langchain-community) (3.10)\n",
            "Requirement already satisfied: urllib3<3,>=1.21.1 in /usr/local/lib/python3.11/dist-packages (from requests<3,>=2->langchain-community) (2.5.0)\n",
            "Requirement already satisfied: certifi>=2017.4.17 in /usr/local/lib/python3.11/dist-packages (from requests<3,>=2->langchain-community) (2025.8.3)\n",
            "Requirement already satisfied: greenlet>=1 in /usr/local/lib/python3.11/dist-packages (from SQLAlchemy<3,>=1.4->langchain-community) (3.2.3)\n",
            "Requirement already satisfied: anyio in /usr/local/lib/python3.11/dist-packages (from httpx<1,>=0.23.0->langsmith>=0.1.125->langchain-community) (4.10.0)\n",
            "Requirement already satisfied: httpcore==1.* in /usr/local/lib/python3.11/dist-packages (from httpx<1,>=0.23.0->langsmith>=0.1.125->langchain-community) (1.0.9)\n",
            "Requirement already satisfied: h11>=0.16 in /usr/local/lib/python3.11/dist-packages (from httpcore==1.*->httpx<1,>=0.23.0->langsmith>=0.1.125->langchain-community) (0.16.0)\n",
            "Requirement already satisfied: jsonpointer>=1.9 in /usr/local/lib/python3.11/dist-packages (from jsonpatch<2.0,>=1.33->langchain-core<1.0.0,>=0.3.66->langchain-community) (3.0.0)\n",
            "Requirement already satisfied: annotated-types>=0.6.0 in /usr/local/lib/python3.11/dist-packages (from pydantic<3.0.0,>=2.7.4->langchain<1.0.0,>=0.3.26->langchain-community) (0.7.0)\n",
            "Requirement already satisfied: pydantic-core==2.33.2 in /usr/local/lib/python3.11/dist-packages (from pydantic<3.0.0,>=2.7.4->langchain<1.0.0,>=0.3.26->langchain-community) (2.33.2)\n",
            "Collecting mypy-extensions>=0.3.0 (from typing-inspect<1,>=0.4.0->dataclasses-json<0.7,>=0.5.7->langchain-community)\n",
            "  Downloading mypy_extensions-1.1.0-py3-none-any.whl.metadata (1.1 kB)\n",
            "Requirement already satisfied: sniffio>=1.1 in /usr/local/lib/python3.11/dist-packages (from anyio->httpx<1,>=0.23.0->langsmith>=0.1.125->langchain-community) (1.3.1)\n",
            "Downloading langchain_community-0.3.27-py3-none-any.whl (2.5 MB)\n",
            "\u001b[2K   \u001b[90m━━━━━━━━━━━━━━━━━━━━━━━━━━━━━━━━━━━━━━━━\u001b[0m \u001b[32m2.5/2.5 MB\u001b[0m \u001b[31m44.8 MB/s\u001b[0m eta \u001b[36m0:00:00\u001b[0m\n",
            "\u001b[?25hDownloading dataclasses_json-0.6.7-py3-none-any.whl (28 kB)\n",
            "Downloading httpx_sse-0.4.1-py3-none-any.whl (8.1 kB)\n",
            "Downloading pydantic_settings-2.10.1-py3-none-any.whl (45 kB)\n",
            "\u001b[2K   \u001b[90m━━━━━━━━━━━━━━━━━━━━━━━━━━━━━━━━━━━━━━━━\u001b[0m \u001b[32m45.2/45.2 kB\u001b[0m \u001b[31m4.7 MB/s\u001b[0m eta \u001b[36m0:00:00\u001b[0m\n",
            "\u001b[?25hDownloading marshmallow-3.26.1-py3-none-any.whl (50 kB)\n",
            "\u001b[2K   \u001b[90m━━━━━━━━━━━━━━━━━━━━━━━━━━━━━━━━━━━━━━━━\u001b[0m \u001b[32m50.9/50.9 kB\u001b[0m \u001b[31m5.0 MB/s\u001b[0m eta \u001b[36m0:00:00\u001b[0m\n",
            "\u001b[?25hDownloading python_dotenv-1.1.1-py3-none-any.whl (20 kB)\n",
            "Downloading typing_inspect-0.9.0-py3-none-any.whl (8.8 kB)\n",
            "Downloading mypy_extensions-1.1.0-py3-none-any.whl (5.0 kB)\n",
            "Installing collected packages: python-dotenv, mypy-extensions, marshmallow, httpx-sse, typing-inspect, pydantic-settings, dataclasses-json, langchain-community\n",
            "Successfully installed dataclasses-json-0.6.7 httpx-sse-0.4.1 langchain-community-0.3.27 marshmallow-3.26.1 mypy-extensions-1.1.0 pydantic-settings-2.10.1 python-dotenv-1.1.1 typing-inspect-0.9.0\n"
          ]
        }
      ]
    },
    {
      "cell_type": "code",
      "source": [
        "!pip install -U langchain-chroma"
      ],
      "metadata": {
        "id": "okyIY5WM0KB1",
        "outputId": "87a0872f-c77a-46a0-9e3d-594d8a089c3a",
        "colab": {
          "base_uri": "https://localhost:8080/"
        }
      },
      "id": "okyIY5WM0KB1",
      "execution_count": 3,
      "outputs": [
        {
          "output_type": "stream",
          "name": "stdout",
          "text": [
            "Collecting langchain-chroma\n",
            "  Using cached langchain_chroma-0.2.5-py3-none-any.whl.metadata (1.1 kB)\n",
            "Requirement already satisfied: langchain-core>=0.3.70 in /usr/local/lib/python3.11/dist-packages (from langchain-chroma) (0.3.72)\n",
            "Requirement already satisfied: numpy>=1.26.0 in /usr/local/lib/python3.11/dist-packages (from langchain-chroma) (2.0.2)\n",
            "Collecting chromadb>=1.0.9 (from langchain-chroma)\n",
            "  Using cached chromadb-1.0.16-cp39-abi3-manylinux_2_17_x86_64.manylinux2014_x86_64.whl.metadata (7.4 kB)\n",
            "Requirement already satisfied: build>=1.0.3 in /usr/local/lib/python3.11/dist-packages (from chromadb>=1.0.9->langchain-chroma) (1.3.0)\n",
            "Requirement already satisfied: pydantic>=1.9 in /usr/local/lib/python3.11/dist-packages (from chromadb>=1.0.9->langchain-chroma) (2.11.7)\n",
            "Collecting pybase64>=1.4.1 (from chromadb>=1.0.9->langchain-chroma)\n",
            "  Using cached pybase64-1.4.2-cp311-cp311-manylinux1_x86_64.manylinux2014_x86_64.manylinux_2_17_x86_64.manylinux_2_5_x86_64.whl.metadata (8.7 kB)\n",
            "Requirement already satisfied: uvicorn>=0.18.3 in /usr/local/lib/python3.11/dist-packages (from uvicorn[standard]>=0.18.3->chromadb>=1.0.9->langchain-chroma) (0.35.0)\n",
            "Collecting posthog<6.0.0,>=2.4.0 (from chromadb>=1.0.9->langchain-chroma)\n",
            "  Using cached posthog-5.4.0-py3-none-any.whl.metadata (5.7 kB)\n",
            "Requirement already satisfied: typing-extensions>=4.5.0 in /usr/local/lib/python3.11/dist-packages (from chromadb>=1.0.9->langchain-chroma) (4.14.1)\n",
            "Collecting onnxruntime>=1.14.1 (from chromadb>=1.0.9->langchain-chroma)\n",
            "  Downloading onnxruntime-1.22.1-cp311-cp311-manylinux_2_27_x86_64.manylinux_2_28_x86_64.whl.metadata (4.6 kB)\n",
            "Collecting opentelemetry-api>=1.2.0 (from chromadb>=1.0.9->langchain-chroma)\n",
            "  Downloading opentelemetry_api-1.36.0-py3-none-any.whl.metadata (1.5 kB)\n",
            "Collecting opentelemetry-exporter-otlp-proto-grpc>=1.2.0 (from chromadb>=1.0.9->langchain-chroma)\n",
            "  Downloading opentelemetry_exporter_otlp_proto_grpc-1.36.0-py3-none-any.whl.metadata (2.4 kB)\n",
            "Collecting opentelemetry-sdk>=1.2.0 (from chromadb>=1.0.9->langchain-chroma)\n",
            "  Downloading opentelemetry_sdk-1.36.0-py3-none-any.whl.metadata (1.5 kB)\n",
            "Requirement already satisfied: tokenizers>=0.13.2 in /usr/local/lib/python3.11/dist-packages (from chromadb>=1.0.9->langchain-chroma) (0.21.4)\n",
            "Collecting pypika>=0.48.9 (from chromadb>=1.0.9->langchain-chroma)\n",
            "  Downloading PyPika-0.48.9.tar.gz (67 kB)\n",
            "\u001b[2K     \u001b[90m━━━━━━━━━━━━━━━━━━━━━━━━━━━━━━━━━━━━━━━━\u001b[0m \u001b[32m67.3/67.3 kB\u001b[0m \u001b[31m5.9 MB/s\u001b[0m eta \u001b[36m0:00:00\u001b[0m\n",
            "\u001b[?25h  Installing build dependencies ... \u001b[?25l\u001b[?25hdone\n",
            "  Getting requirements to build wheel ... \u001b[?25l\u001b[?25hdone\n",
            "  Preparing metadata (pyproject.toml) ... \u001b[?25l\u001b[?25hdone\n",
            "Requirement already satisfied: tqdm>=4.65.0 in /usr/local/lib/python3.11/dist-packages (from chromadb>=1.0.9->langchain-chroma) (4.67.1)\n",
            "Collecting overrides>=7.3.1 (from chromadb>=1.0.9->langchain-chroma)\n",
            "  Downloading overrides-7.7.0-py3-none-any.whl.metadata (5.8 kB)\n",
            "Requirement already satisfied: importlib-resources in /usr/local/lib/python3.11/dist-packages (from chromadb>=1.0.9->langchain-chroma) (6.5.2)\n",
            "Requirement already satisfied: grpcio>=1.58.0 in /usr/local/lib/python3.11/dist-packages (from chromadb>=1.0.9->langchain-chroma) (1.74.0)\n",
            "Collecting bcrypt>=4.0.1 (from chromadb>=1.0.9->langchain-chroma)\n",
            "  Downloading bcrypt-4.3.0-cp39-abi3-manylinux_2_34_x86_64.whl.metadata (10 kB)\n",
            "Requirement already satisfied: typer>=0.9.0 in /usr/local/lib/python3.11/dist-packages (from chromadb>=1.0.9->langchain-chroma) (0.16.0)\n",
            "Collecting kubernetes>=28.1.0 (from chromadb>=1.0.9->langchain-chroma)\n",
            "  Downloading kubernetes-33.1.0-py2.py3-none-any.whl.metadata (1.7 kB)\n",
            "Requirement already satisfied: tenacity>=8.2.3 in /usr/local/lib/python3.11/dist-packages (from chromadb>=1.0.9->langchain-chroma) (8.5.0)\n",
            "Requirement already satisfied: pyyaml>=6.0.0 in /usr/local/lib/python3.11/dist-packages (from chromadb>=1.0.9->langchain-chroma) (6.0.2)\n",
            "Collecting mmh3>=4.0.1 (from chromadb>=1.0.9->langchain-chroma)\n",
            "  Downloading mmh3-5.2.0-cp311-cp311-manylinux1_x86_64.manylinux_2_28_x86_64.manylinux_2_5_x86_64.whl.metadata (14 kB)\n",
            "Requirement already satisfied: orjson>=3.9.12 in /usr/local/lib/python3.11/dist-packages (from chromadb>=1.0.9->langchain-chroma) (3.11.1)\n",
            "Requirement already satisfied: httpx>=0.27.0 in /usr/local/lib/python3.11/dist-packages (from chromadb>=1.0.9->langchain-chroma) (0.28.1)\n",
            "Requirement already satisfied: rich>=10.11.0 in /usr/local/lib/python3.11/dist-packages (from chromadb>=1.0.9->langchain-chroma) (13.9.4)\n",
            "Requirement already satisfied: jsonschema>=4.19.0 in /usr/local/lib/python3.11/dist-packages (from chromadb>=1.0.9->langchain-chroma) (4.25.0)\n",
            "Requirement already satisfied: langsmith>=0.3.45 in /usr/local/lib/python3.11/dist-packages (from langchain-core>=0.3.70->langchain-chroma) (0.4.12)\n",
            "Requirement already satisfied: jsonpatch<2.0,>=1.33 in /usr/local/lib/python3.11/dist-packages (from langchain-core>=0.3.70->langchain-chroma) (1.33)\n",
            "Requirement already satisfied: packaging>=23.2 in /usr/local/lib/python3.11/dist-packages (from langchain-core>=0.3.70->langchain-chroma) (25.0)\n",
            "Requirement already satisfied: pyproject_hooks in /usr/local/lib/python3.11/dist-packages (from build>=1.0.3->chromadb>=1.0.9->langchain-chroma) (1.2.0)\n",
            "Requirement already satisfied: anyio in /usr/local/lib/python3.11/dist-packages (from httpx>=0.27.0->chromadb>=1.0.9->langchain-chroma) (4.10.0)\n",
            "Requirement already satisfied: certifi in /usr/local/lib/python3.11/dist-packages (from httpx>=0.27.0->chromadb>=1.0.9->langchain-chroma) (2025.8.3)\n",
            "Requirement already satisfied: httpcore==1.* in /usr/local/lib/python3.11/dist-packages (from httpx>=0.27.0->chromadb>=1.0.9->langchain-chroma) (1.0.9)\n",
            "Requirement already satisfied: idna in /usr/local/lib/python3.11/dist-packages (from httpx>=0.27.0->chromadb>=1.0.9->langchain-chroma) (3.10)\n",
            "Requirement already satisfied: h11>=0.16 in /usr/local/lib/python3.11/dist-packages (from httpcore==1.*->httpx>=0.27.0->chromadb>=1.0.9->langchain-chroma) (0.16.0)\n",
            "Requirement already satisfied: jsonpointer>=1.9 in /usr/local/lib/python3.11/dist-packages (from jsonpatch<2.0,>=1.33->langchain-core>=0.3.70->langchain-chroma) (3.0.0)\n",
            "Requirement already satisfied: attrs>=22.2.0 in /usr/local/lib/python3.11/dist-packages (from jsonschema>=4.19.0->chromadb>=1.0.9->langchain-chroma) (25.3.0)\n",
            "Requirement already satisfied: jsonschema-specifications>=2023.03.6 in /usr/local/lib/python3.11/dist-packages (from jsonschema>=4.19.0->chromadb>=1.0.9->langchain-chroma) (2025.4.1)\n",
            "Requirement already satisfied: referencing>=0.28.4 in /usr/local/lib/python3.11/dist-packages (from jsonschema>=4.19.0->chromadb>=1.0.9->langchain-chroma) (0.36.2)\n",
            "Requirement already satisfied: rpds-py>=0.7.1 in /usr/local/lib/python3.11/dist-packages (from jsonschema>=4.19.0->chromadb>=1.0.9->langchain-chroma) (0.26.0)\n",
            "Requirement already satisfied: six>=1.9.0 in /usr/local/lib/python3.11/dist-packages (from kubernetes>=28.1.0->chromadb>=1.0.9->langchain-chroma) (1.17.0)\n",
            "Requirement already satisfied: python-dateutil>=2.5.3 in /usr/local/lib/python3.11/dist-packages (from kubernetes>=28.1.0->chromadb>=1.0.9->langchain-chroma) (2.9.0.post0)\n",
            "Requirement already satisfied: google-auth>=1.0.1 in /usr/local/lib/python3.11/dist-packages (from kubernetes>=28.1.0->chromadb>=1.0.9->langchain-chroma) (2.38.0)\n",
            "Requirement already satisfied: websocket-client!=0.40.0,!=0.41.*,!=0.42.*,>=0.32.0 in /usr/local/lib/python3.11/dist-packages (from kubernetes>=28.1.0->chromadb>=1.0.9->langchain-chroma) (1.8.0)\n",
            "Requirement already satisfied: requests in /usr/local/lib/python3.11/dist-packages (from kubernetes>=28.1.0->chromadb>=1.0.9->langchain-chroma) (2.32.3)\n",
            "Requirement already satisfied: requests-oauthlib in /usr/local/lib/python3.11/dist-packages (from kubernetes>=28.1.0->chromadb>=1.0.9->langchain-chroma) (2.0.0)\n",
            "Requirement already satisfied: oauthlib>=3.2.2 in /usr/local/lib/python3.11/dist-packages (from kubernetes>=28.1.0->chromadb>=1.0.9->langchain-chroma) (3.3.1)\n",
            "Requirement already satisfied: urllib3>=1.24.2 in /usr/local/lib/python3.11/dist-packages (from kubernetes>=28.1.0->chromadb>=1.0.9->langchain-chroma) (2.5.0)\n",
            "Collecting durationpy>=0.7 (from kubernetes>=28.1.0->chromadb>=1.0.9->langchain-chroma)\n",
            "  Downloading durationpy-0.10-py3-none-any.whl.metadata (340 bytes)\n",
            "Requirement already satisfied: requests-toolbelt>=1.0.0 in /usr/local/lib/python3.11/dist-packages (from langsmith>=0.3.45->langchain-core>=0.3.70->langchain-chroma) (1.0.0)\n",
            "Requirement already satisfied: zstandard>=0.23.0 in /usr/local/lib/python3.11/dist-packages (from langsmith>=0.3.45->langchain-core>=0.3.70->langchain-chroma) (0.23.0)\n",
            "Collecting coloredlogs (from onnxruntime>=1.14.1->chromadb>=1.0.9->langchain-chroma)\n",
            "  Downloading coloredlogs-15.0.1-py2.py3-none-any.whl.metadata (12 kB)\n",
            "Requirement already satisfied: flatbuffers in /usr/local/lib/python3.11/dist-packages (from onnxruntime>=1.14.1->chromadb>=1.0.9->langchain-chroma) (25.2.10)\n",
            "Requirement already satisfied: protobuf in /usr/local/lib/python3.11/dist-packages (from onnxruntime>=1.14.1->chromadb>=1.0.9->langchain-chroma) (5.29.5)\n",
            "Requirement already satisfied: sympy in /usr/local/lib/python3.11/dist-packages (from onnxruntime>=1.14.1->chromadb>=1.0.9->langchain-chroma) (1.13.1)\n",
            "Requirement already satisfied: importlib-metadata<8.8.0,>=6.0 in /usr/local/lib/python3.11/dist-packages (from opentelemetry-api>=1.2.0->chromadb>=1.0.9->langchain-chroma) (8.7.0)\n",
            "Requirement already satisfied: googleapis-common-protos~=1.57 in /usr/local/lib/python3.11/dist-packages (from opentelemetry-exporter-otlp-proto-grpc>=1.2.0->chromadb>=1.0.9->langchain-chroma) (1.70.0)\n",
            "Collecting opentelemetry-exporter-otlp-proto-common==1.36.0 (from opentelemetry-exporter-otlp-proto-grpc>=1.2.0->chromadb>=1.0.9->langchain-chroma)\n",
            "  Downloading opentelemetry_exporter_otlp_proto_common-1.36.0-py3-none-any.whl.metadata (1.8 kB)\n",
            "Collecting opentelemetry-proto==1.36.0 (from opentelemetry-exporter-otlp-proto-grpc>=1.2.0->chromadb>=1.0.9->langchain-chroma)\n",
            "  Downloading opentelemetry_proto-1.36.0-py3-none-any.whl.metadata (2.3 kB)\n",
            "Collecting opentelemetry-semantic-conventions==0.57b0 (from opentelemetry-sdk>=1.2.0->chromadb>=1.0.9->langchain-chroma)\n",
            "  Downloading opentelemetry_semantic_conventions-0.57b0-py3-none-any.whl.metadata (2.4 kB)\n",
            "Collecting backoff>=1.10.0 (from posthog<6.0.0,>=2.4.0->chromadb>=1.0.9->langchain-chroma)\n",
            "  Downloading backoff-2.2.1-py3-none-any.whl.metadata (14 kB)\n",
            "Requirement already satisfied: distro>=1.5.0 in /usr/local/lib/python3.11/dist-packages (from posthog<6.0.0,>=2.4.0->chromadb>=1.0.9->langchain-chroma) (1.9.0)\n",
            "Requirement already satisfied: annotated-types>=0.6.0 in /usr/local/lib/python3.11/dist-packages (from pydantic>=1.9->chromadb>=1.0.9->langchain-chroma) (0.7.0)\n",
            "Requirement already satisfied: pydantic-core==2.33.2 in /usr/local/lib/python3.11/dist-packages (from pydantic>=1.9->chromadb>=1.0.9->langchain-chroma) (2.33.2)\n",
            "Requirement already satisfied: typing-inspection>=0.4.0 in /usr/local/lib/python3.11/dist-packages (from pydantic>=1.9->chromadb>=1.0.9->langchain-chroma) (0.4.1)\n",
            "Requirement already satisfied: markdown-it-py>=2.2.0 in /usr/local/lib/python3.11/dist-packages (from rich>=10.11.0->chromadb>=1.0.9->langchain-chroma) (3.0.0)\n",
            "Requirement already satisfied: pygments<3.0.0,>=2.13.0 in /usr/local/lib/python3.11/dist-packages (from rich>=10.11.0->chromadb>=1.0.9->langchain-chroma) (2.19.2)\n",
            "Requirement already satisfied: huggingface-hub<1.0,>=0.16.4 in /usr/local/lib/python3.11/dist-packages (from tokenizers>=0.13.2->chromadb>=1.0.9->langchain-chroma) (0.34.3)\n",
            "Requirement already satisfied: click>=8.0.0 in /usr/local/lib/python3.11/dist-packages (from typer>=0.9.0->chromadb>=1.0.9->langchain-chroma) (8.2.1)\n",
            "Requirement already satisfied: shellingham>=1.3.0 in /usr/local/lib/python3.11/dist-packages (from typer>=0.9.0->chromadb>=1.0.9->langchain-chroma) (1.5.4)\n",
            "Collecting httptools>=0.6.3 (from uvicorn[standard]>=0.18.3->chromadb>=1.0.9->langchain-chroma)\n",
            "  Downloading httptools-0.6.4-cp311-cp311-manylinux_2_5_x86_64.manylinux1_x86_64.manylinux_2_17_x86_64.manylinux2014_x86_64.whl.metadata (3.6 kB)\n",
            "Requirement already satisfied: python-dotenv>=0.13 in /usr/local/lib/python3.11/dist-packages (from uvicorn[standard]>=0.18.3->chromadb>=1.0.9->langchain-chroma) (1.1.1)\n",
            "Collecting uvloop>=0.15.1 (from uvicorn[standard]>=0.18.3->chromadb>=1.0.9->langchain-chroma)\n",
            "  Downloading uvloop-0.21.0-cp311-cp311-manylinux_2_17_x86_64.manylinux2014_x86_64.whl.metadata (4.9 kB)\n",
            "Collecting watchfiles>=0.13 (from uvicorn[standard]>=0.18.3->chromadb>=1.0.9->langchain-chroma)\n",
            "  Downloading watchfiles-1.1.0-cp311-cp311-manylinux_2_17_x86_64.manylinux2014_x86_64.whl.metadata (4.9 kB)\n",
            "Requirement already satisfied: websockets>=10.4 in /usr/local/lib/python3.11/dist-packages (from uvicorn[standard]>=0.18.3->chromadb>=1.0.9->langchain-chroma) (15.0.1)\n",
            "Requirement already satisfied: cachetools<6.0,>=2.0.0 in /usr/local/lib/python3.11/dist-packages (from google-auth>=1.0.1->kubernetes>=28.1.0->chromadb>=1.0.9->langchain-chroma) (5.5.2)\n",
            "Requirement already satisfied: pyasn1-modules>=0.2.1 in /usr/local/lib/python3.11/dist-packages (from google-auth>=1.0.1->kubernetes>=28.1.0->chromadb>=1.0.9->langchain-chroma) (0.4.2)\n",
            "Requirement already satisfied: rsa<5,>=3.1.4 in /usr/local/lib/python3.11/dist-packages (from google-auth>=1.0.1->kubernetes>=28.1.0->chromadb>=1.0.9->langchain-chroma) (4.9.1)\n",
            "Requirement already satisfied: filelock in /usr/local/lib/python3.11/dist-packages (from huggingface-hub<1.0,>=0.16.4->tokenizers>=0.13.2->chromadb>=1.0.9->langchain-chroma) (3.18.0)\n",
            "Requirement already satisfied: fsspec>=2023.5.0 in /usr/local/lib/python3.11/dist-packages (from huggingface-hub<1.0,>=0.16.4->tokenizers>=0.13.2->chromadb>=1.0.9->langchain-chroma) (2025.3.0)\n",
            "Requirement already satisfied: hf-xet<2.0.0,>=1.1.3 in /usr/local/lib/python3.11/dist-packages (from huggingface-hub<1.0,>=0.16.4->tokenizers>=0.13.2->chromadb>=1.0.9->langchain-chroma) (1.1.7)\n",
            "Requirement already satisfied: zipp>=3.20 in /usr/local/lib/python3.11/dist-packages (from importlib-metadata<8.8.0,>=6.0->opentelemetry-api>=1.2.0->chromadb>=1.0.9->langchain-chroma) (3.23.0)\n",
            "Requirement already satisfied: mdurl~=0.1 in /usr/local/lib/python3.11/dist-packages (from markdown-it-py>=2.2.0->rich>=10.11.0->chromadb>=1.0.9->langchain-chroma) (0.1.2)\n",
            "Requirement already satisfied: charset-normalizer<4,>=2 in /usr/local/lib/python3.11/dist-packages (from requests->kubernetes>=28.1.0->chromadb>=1.0.9->langchain-chroma) (3.4.2)\n",
            "Requirement already satisfied: sniffio>=1.1 in /usr/local/lib/python3.11/dist-packages (from anyio->httpx>=0.27.0->chromadb>=1.0.9->langchain-chroma) (1.3.1)\n",
            "Collecting humanfriendly>=9.1 (from coloredlogs->onnxruntime>=1.14.1->chromadb>=1.0.9->langchain-chroma)\n",
            "  Downloading humanfriendly-10.0-py2.py3-none-any.whl.metadata (9.2 kB)\n",
            "Requirement already satisfied: mpmath<1.4,>=1.1.0 in /usr/local/lib/python3.11/dist-packages (from sympy->onnxruntime>=1.14.1->chromadb>=1.0.9->langchain-chroma) (1.3.0)\n",
            "Requirement already satisfied: pyasn1<0.7.0,>=0.6.1 in /usr/local/lib/python3.11/dist-packages (from pyasn1-modules>=0.2.1->google-auth>=1.0.1->kubernetes>=28.1.0->chromadb>=1.0.9->langchain-chroma) (0.6.1)\n",
            "Downloading langchain_chroma-0.2.5-py3-none-any.whl (12 kB)\n",
            "Downloading chromadb-1.0.16-cp39-abi3-manylinux_2_17_x86_64.manylinux2014_x86_64.whl (19.6 MB)\n",
            "\u001b[2K   \u001b[90m━━━━━━━━━━━━━━━━━━━━━━━━━━━━━━━━━━━━━━━━\u001b[0m \u001b[32m19.6/19.6 MB\u001b[0m \u001b[31m79.7 MB/s\u001b[0m eta \u001b[36m0:00:00\u001b[0m\n",
            "\u001b[?25hDownloading bcrypt-4.3.0-cp39-abi3-manylinux_2_34_x86_64.whl (284 kB)\n",
            "\u001b[2K   \u001b[90m━━━━━━━━━━━━━━━━━━━━━━━━━━━━━━━━━━━━━━━━\u001b[0m \u001b[32m284.2/284.2 kB\u001b[0m \u001b[31m25.4 MB/s\u001b[0m eta \u001b[36m0:00:00\u001b[0m\n",
            "\u001b[?25hDownloading kubernetes-33.1.0-py2.py3-none-any.whl (1.9 MB)\n",
            "\u001b[2K   \u001b[90m━━━━━━━━━━━━━━━━━━━━━━━━━━━━━━━━━━━━━━━━\u001b[0m \u001b[32m1.9/1.9 MB\u001b[0m \u001b[31m72.5 MB/s\u001b[0m eta \u001b[36m0:00:00\u001b[0m\n",
            "\u001b[?25hDownloading mmh3-5.2.0-cp311-cp311-manylinux1_x86_64.manylinux_2_28_x86_64.manylinux_2_5_x86_64.whl (103 kB)\n",
            "\u001b[2K   \u001b[90m━━━━━━━━━━━━━━━━━━━━━━━━━━━━━━━━━━━━━━━━\u001b[0m \u001b[32m103.1/103.1 kB\u001b[0m \u001b[31m10.6 MB/s\u001b[0m eta \u001b[36m0:00:00\u001b[0m\n",
            "\u001b[?25hDownloading onnxruntime-1.22.1-cp311-cp311-manylinux_2_27_x86_64.manylinux_2_28_x86_64.whl (16.5 MB)\n",
            "\u001b[2K   \u001b[90m━━━━━━━━━━━━━━━━━━━━━━━━━━━━━━━━━━━━━━━━\u001b[0m \u001b[32m16.5/16.5 MB\u001b[0m \u001b[31m91.0 MB/s\u001b[0m eta \u001b[36m0:00:00\u001b[0m\n",
            "\u001b[?25hDownloading opentelemetry_api-1.36.0-py3-none-any.whl (65 kB)\n",
            "\u001b[2K   \u001b[90m━━━━━━━━━━━━━━━━━━━━━━━━━━━━━━━━━━━━━━━━\u001b[0m \u001b[32m65.6/65.6 kB\u001b[0m \u001b[31m6.4 MB/s\u001b[0m eta \u001b[36m0:00:00\u001b[0m\n",
            "\u001b[?25hDownloading opentelemetry_exporter_otlp_proto_grpc-1.36.0-py3-none-any.whl (18 kB)\n",
            "Downloading opentelemetry_exporter_otlp_proto_common-1.36.0-py3-none-any.whl (18 kB)\n",
            "Downloading opentelemetry_proto-1.36.0-py3-none-any.whl (72 kB)\n",
            "\u001b[2K   \u001b[90m━━━━━━━━━━━━━━━━━━━━━━━━━━━━━━━━━━━━━━━━\u001b[0m \u001b[32m72.5/72.5 kB\u001b[0m \u001b[31m7.4 MB/s\u001b[0m eta \u001b[36m0:00:00\u001b[0m\n",
            "\u001b[?25hDownloading opentelemetry_sdk-1.36.0-py3-none-any.whl (119 kB)\n",
            "\u001b[2K   \u001b[90m━━━━━━━━━━━━━━━━━━━━━━━━━━━━━━━━━━━━━━━━\u001b[0m \u001b[32m120.0/120.0 kB\u001b[0m \u001b[31m12.4 MB/s\u001b[0m eta \u001b[36m0:00:00\u001b[0m\n",
            "\u001b[?25hDownloading opentelemetry_semantic_conventions-0.57b0-py3-none-any.whl (201 kB)\n",
            "\u001b[2K   \u001b[90m━━━━━━━━━━━━━━━━━━━━━━━━━━━━━━━━━━━━━━━━\u001b[0m \u001b[32m201.6/201.6 kB\u001b[0m \u001b[31m19.9 MB/s\u001b[0m eta \u001b[36m0:00:00\u001b[0m\n",
            "\u001b[?25hDownloading overrides-7.7.0-py3-none-any.whl (17 kB)\n",
            "Downloading posthog-5.4.0-py3-none-any.whl (105 kB)\n",
            "\u001b[2K   \u001b[90m━━━━━━━━━━━━━━━━━━━━━━━━━━━━━━━━━━━━━━━━\u001b[0m \u001b[32m105.4/105.4 kB\u001b[0m \u001b[31m10.8 MB/s\u001b[0m eta \u001b[36m0:00:00\u001b[0m\n",
            "\u001b[?25hDownloading pybase64-1.4.2-cp311-cp311-manylinux1_x86_64.manylinux2014_x86_64.manylinux_2_17_x86_64.manylinux_2_5_x86_64.whl (71 kB)\n",
            "\u001b[2K   \u001b[90m━━━━━━━━━━━━━━━━━━━━━━━━━━━━━━━━━━━━━━━━\u001b[0m \u001b[32m71.4/71.4 kB\u001b[0m \u001b[31m9.2 MB/s\u001b[0m eta \u001b[36m0:00:00\u001b[0m\n",
            "\u001b[?25hDownloading backoff-2.2.1-py3-none-any.whl (15 kB)\n",
            "Downloading durationpy-0.10-py3-none-any.whl (3.9 kB)\n",
            "Downloading httptools-0.6.4-cp311-cp311-manylinux_2_5_x86_64.manylinux1_x86_64.manylinux_2_17_x86_64.manylinux2014_x86_64.whl (459 kB)\n",
            "\u001b[2K   \u001b[90m━━━━━━━━━━━━━━━━━━━━━━━━━━━━━━━━━━━━━━━━\u001b[0m \u001b[32m459.8/459.8 kB\u001b[0m \u001b[31m37.2 MB/s\u001b[0m eta \u001b[36m0:00:00\u001b[0m\n",
            "\u001b[?25hDownloading uvloop-0.21.0-cp311-cp311-manylinux_2_17_x86_64.manylinux2014_x86_64.whl (4.0 MB)\n",
            "\u001b[2K   \u001b[90m━━━━━━━━━━━━━━━━━━━━━━━━━━━━━━━━━━━━━━━━\u001b[0m \u001b[32m4.0/4.0 MB\u001b[0m \u001b[31m123.3 MB/s\u001b[0m eta \u001b[36m0:00:00\u001b[0m\n",
            "\u001b[?25hDownloading watchfiles-1.1.0-cp311-cp311-manylinux_2_17_x86_64.manylinux2014_x86_64.whl (453 kB)\n",
            "\u001b[2K   \u001b[90m━━━━━━━━━━━━━━━━━━━━━━━━━━━━━━━━━━━━━━━━\u001b[0m \u001b[32m453.1/453.1 kB\u001b[0m \u001b[31m43.3 MB/s\u001b[0m eta \u001b[36m0:00:00\u001b[0m\n",
            "\u001b[?25hDownloading coloredlogs-15.0.1-py2.py3-none-any.whl (46 kB)\n",
            "\u001b[2K   \u001b[90m━━━━━━━━━━━━━━━━━━━━━━━━━━━━━━━━━━━━━━━━\u001b[0m \u001b[32m46.0/46.0 kB\u001b[0m \u001b[31m5.1 MB/s\u001b[0m eta \u001b[36m0:00:00\u001b[0m\n",
            "\u001b[?25hDownloading humanfriendly-10.0-py2.py3-none-any.whl (86 kB)\n",
            "\u001b[2K   \u001b[90m━━━━━━━━━━━━━━━━━━━━━━━━━━━━━━━━━━━━━━━━\u001b[0m \u001b[32m86.8/86.8 kB\u001b[0m \u001b[31m9.4 MB/s\u001b[0m eta \u001b[36m0:00:00\u001b[0m\n",
            "\u001b[?25hBuilding wheels for collected packages: pypika\n",
            "  Building wheel for pypika (pyproject.toml) ... \u001b[?25l\u001b[?25hdone\n",
            "  Created wheel for pypika: filename=pypika-0.48.9-py2.py3-none-any.whl size=53803 sha256=4a9035a41402db14cae0cd678ca56230bef1f33ed80b70819707c7ee2a657950\n",
            "  Stored in directory: /root/.cache/pip/wheels/a3/01/bd/4c40ceb9d5354160cb186dcc153360f4ab7eb23e2b24daf96d\n",
            "Successfully built pypika\n",
            "Installing collected packages: pypika, durationpy, uvloop, pybase64, overrides, opentelemetry-proto, mmh3, humanfriendly, httptools, bcrypt, backoff, watchfiles, posthog, opentelemetry-exporter-otlp-proto-common, opentelemetry-api, coloredlogs, opentelemetry-semantic-conventions, onnxruntime, kubernetes, opentelemetry-sdk, opentelemetry-exporter-otlp-proto-grpc, chromadb, langchain-chroma\n",
            "Successfully installed backoff-2.2.1 bcrypt-4.3.0 chromadb-1.0.16 coloredlogs-15.0.1 durationpy-0.10 httptools-0.6.4 humanfriendly-10.0 kubernetes-33.1.0 langchain-chroma-0.2.5 mmh3-5.2.0 onnxruntime-1.22.1 opentelemetry-api-1.36.0 opentelemetry-exporter-otlp-proto-common-1.36.0 opentelemetry-exporter-otlp-proto-grpc-1.36.0 opentelemetry-proto-1.36.0 opentelemetry-sdk-1.36.0 opentelemetry-semantic-conventions-0.57b0 overrides-7.7.0 posthog-5.4.0 pybase64-1.4.2 pypika-0.48.9 uvloop-0.21.0 watchfiles-1.1.0\n"
          ]
        }
      ]
    },
    {
      "cell_type": "code",
      "source": [
        "!pip install -U langchain-google-genai"
      ],
      "metadata": {
        "id": "yoZeF40v0e69",
        "outputId": "a9dc95c2-4dd6-4447-d728-34e01353f9aa",
        "colab": {
          "base_uri": "https://localhost:8080/",
          "height": 1000
        }
      },
      "id": "yoZeF40v0e69",
      "execution_count": 4,
      "outputs": [
        {
          "output_type": "stream",
          "name": "stdout",
          "text": [
            "Collecting langchain-google-genai\n",
            "  Downloading langchain_google_genai-2.1.9-py3-none-any.whl.metadata (7.2 kB)\n",
            "Collecting filetype<2.0.0,>=1.2.0 (from langchain-google-genai)\n",
            "  Downloading filetype-1.2.0-py2.py3-none-any.whl.metadata (6.5 kB)\n",
            "Collecting google-ai-generativelanguage<0.7.0,>=0.6.18 (from langchain-google-genai)\n",
            "  Downloading google_ai_generativelanguage-0.6.18-py3-none-any.whl.metadata (9.8 kB)\n",
            "Requirement already satisfied: langchain-core<0.4.0,>=0.3.68 in /usr/local/lib/python3.11/dist-packages (from langchain-google-genai) (0.3.72)\n",
            "Requirement already satisfied: pydantic<3,>=2 in /usr/local/lib/python3.11/dist-packages (from langchain-google-genai) (2.11.7)\n",
            "Requirement already satisfied: google-api-core!=2.0.*,!=2.1.*,!=2.10.*,!=2.2.*,!=2.3.*,!=2.4.*,!=2.5.*,!=2.6.*,!=2.7.*,!=2.8.*,!=2.9.*,<3.0.0,>=1.34.1 in /usr/local/lib/python3.11/dist-packages (from google-api-core[grpc]!=2.0.*,!=2.1.*,!=2.10.*,!=2.2.*,!=2.3.*,!=2.4.*,!=2.5.*,!=2.6.*,!=2.7.*,!=2.8.*,!=2.9.*,<3.0.0,>=1.34.1->google-ai-generativelanguage<0.7.0,>=0.6.18->langchain-google-genai) (2.25.1)\n",
            "Requirement already satisfied: google-auth!=2.24.0,!=2.25.0,<3.0.0,>=2.14.1 in /usr/local/lib/python3.11/dist-packages (from google-ai-generativelanguage<0.7.0,>=0.6.18->langchain-google-genai) (2.38.0)\n",
            "Requirement already satisfied: proto-plus<2.0.0,>=1.22.3 in /usr/local/lib/python3.11/dist-packages (from google-ai-generativelanguage<0.7.0,>=0.6.18->langchain-google-genai) (1.26.1)\n",
            "Requirement already satisfied: protobuf!=4.21.0,!=4.21.1,!=4.21.2,!=4.21.3,!=4.21.4,!=4.21.5,<7.0.0,>=3.20.2 in /usr/local/lib/python3.11/dist-packages (from google-ai-generativelanguage<0.7.0,>=0.6.18->langchain-google-genai) (5.29.5)\n",
            "Requirement already satisfied: langsmith>=0.3.45 in /usr/local/lib/python3.11/dist-packages (from langchain-core<0.4.0,>=0.3.68->langchain-google-genai) (0.4.12)\n",
            "Requirement already satisfied: tenacity!=8.4.0,<10.0.0,>=8.1.0 in /usr/local/lib/python3.11/dist-packages (from langchain-core<0.4.0,>=0.3.68->langchain-google-genai) (8.5.0)\n",
            "Requirement already satisfied: jsonpatch<2.0,>=1.33 in /usr/local/lib/python3.11/dist-packages (from langchain-core<0.4.0,>=0.3.68->langchain-google-genai) (1.33)\n",
            "Requirement already satisfied: PyYAML>=5.3 in /usr/local/lib/python3.11/dist-packages (from langchain-core<0.4.0,>=0.3.68->langchain-google-genai) (6.0.2)\n",
            "Requirement already satisfied: typing-extensions>=4.7 in /usr/local/lib/python3.11/dist-packages (from langchain-core<0.4.0,>=0.3.68->langchain-google-genai) (4.14.1)\n",
            "Requirement already satisfied: packaging>=23.2 in /usr/local/lib/python3.11/dist-packages (from langchain-core<0.4.0,>=0.3.68->langchain-google-genai) (25.0)\n",
            "Requirement already satisfied: annotated-types>=0.6.0 in /usr/local/lib/python3.11/dist-packages (from pydantic<3,>=2->langchain-google-genai) (0.7.0)\n",
            "Requirement already satisfied: pydantic-core==2.33.2 in /usr/local/lib/python3.11/dist-packages (from pydantic<3,>=2->langchain-google-genai) (2.33.2)\n",
            "Requirement already satisfied: typing-inspection>=0.4.0 in /usr/local/lib/python3.11/dist-packages (from pydantic<3,>=2->langchain-google-genai) (0.4.1)\n",
            "Requirement already satisfied: googleapis-common-protos<2.0.0,>=1.56.2 in /usr/local/lib/python3.11/dist-packages (from google-api-core!=2.0.*,!=2.1.*,!=2.10.*,!=2.2.*,!=2.3.*,!=2.4.*,!=2.5.*,!=2.6.*,!=2.7.*,!=2.8.*,!=2.9.*,<3.0.0,>=1.34.1->google-api-core[grpc]!=2.0.*,!=2.1.*,!=2.10.*,!=2.2.*,!=2.3.*,!=2.4.*,!=2.5.*,!=2.6.*,!=2.7.*,!=2.8.*,!=2.9.*,<3.0.0,>=1.34.1->google-ai-generativelanguage<0.7.0,>=0.6.18->langchain-google-genai) (1.70.0)\n",
            "Requirement already satisfied: requests<3.0.0,>=2.18.0 in /usr/local/lib/python3.11/dist-packages (from google-api-core!=2.0.*,!=2.1.*,!=2.10.*,!=2.2.*,!=2.3.*,!=2.4.*,!=2.5.*,!=2.6.*,!=2.7.*,!=2.8.*,!=2.9.*,<3.0.0,>=1.34.1->google-api-core[grpc]!=2.0.*,!=2.1.*,!=2.10.*,!=2.2.*,!=2.3.*,!=2.4.*,!=2.5.*,!=2.6.*,!=2.7.*,!=2.8.*,!=2.9.*,<3.0.0,>=1.34.1->google-ai-generativelanguage<0.7.0,>=0.6.18->langchain-google-genai) (2.32.3)\n",
            "Requirement already satisfied: grpcio<2.0.0,>=1.33.2 in /usr/local/lib/python3.11/dist-packages (from google-api-core[grpc]!=2.0.*,!=2.1.*,!=2.10.*,!=2.2.*,!=2.3.*,!=2.4.*,!=2.5.*,!=2.6.*,!=2.7.*,!=2.8.*,!=2.9.*,<3.0.0,>=1.34.1->google-ai-generativelanguage<0.7.0,>=0.6.18->langchain-google-genai) (1.74.0)\n",
            "Requirement already satisfied: grpcio-status<2.0.0,>=1.33.2 in /usr/local/lib/python3.11/dist-packages (from google-api-core[grpc]!=2.0.*,!=2.1.*,!=2.10.*,!=2.2.*,!=2.3.*,!=2.4.*,!=2.5.*,!=2.6.*,!=2.7.*,!=2.8.*,!=2.9.*,<3.0.0,>=1.34.1->google-ai-generativelanguage<0.7.0,>=0.6.18->langchain-google-genai) (1.71.2)\n",
            "Requirement already satisfied: cachetools<6.0,>=2.0.0 in /usr/local/lib/python3.11/dist-packages (from google-auth!=2.24.0,!=2.25.0,<3.0.0,>=2.14.1->google-ai-generativelanguage<0.7.0,>=0.6.18->langchain-google-genai) (5.5.2)\n",
            "Requirement already satisfied: pyasn1-modules>=0.2.1 in /usr/local/lib/python3.11/dist-packages (from google-auth!=2.24.0,!=2.25.0,<3.0.0,>=2.14.1->google-ai-generativelanguage<0.7.0,>=0.6.18->langchain-google-genai) (0.4.2)\n",
            "Requirement already satisfied: rsa<5,>=3.1.4 in /usr/local/lib/python3.11/dist-packages (from google-auth!=2.24.0,!=2.25.0,<3.0.0,>=2.14.1->google-ai-generativelanguage<0.7.0,>=0.6.18->langchain-google-genai) (4.9.1)\n",
            "Requirement already satisfied: jsonpointer>=1.9 in /usr/local/lib/python3.11/dist-packages (from jsonpatch<2.0,>=1.33->langchain-core<0.4.0,>=0.3.68->langchain-google-genai) (3.0.0)\n",
            "Requirement already satisfied: httpx<1,>=0.23.0 in /usr/local/lib/python3.11/dist-packages (from langsmith>=0.3.45->langchain-core<0.4.0,>=0.3.68->langchain-google-genai) (0.28.1)\n",
            "Requirement already satisfied: orjson>=3.9.14 in /usr/local/lib/python3.11/dist-packages (from langsmith>=0.3.45->langchain-core<0.4.0,>=0.3.68->langchain-google-genai) (3.11.1)\n",
            "Requirement already satisfied: requests-toolbelt>=1.0.0 in /usr/local/lib/python3.11/dist-packages (from langsmith>=0.3.45->langchain-core<0.4.0,>=0.3.68->langchain-google-genai) (1.0.0)\n",
            "Requirement already satisfied: zstandard>=0.23.0 in /usr/local/lib/python3.11/dist-packages (from langsmith>=0.3.45->langchain-core<0.4.0,>=0.3.68->langchain-google-genai) (0.23.0)\n",
            "Requirement already satisfied: anyio in /usr/local/lib/python3.11/dist-packages (from httpx<1,>=0.23.0->langsmith>=0.3.45->langchain-core<0.4.0,>=0.3.68->langchain-google-genai) (4.10.0)\n",
            "Requirement already satisfied: certifi in /usr/local/lib/python3.11/dist-packages (from httpx<1,>=0.23.0->langsmith>=0.3.45->langchain-core<0.4.0,>=0.3.68->langchain-google-genai) (2025.8.3)\n",
            "Requirement already satisfied: httpcore==1.* in /usr/local/lib/python3.11/dist-packages (from httpx<1,>=0.23.0->langsmith>=0.3.45->langchain-core<0.4.0,>=0.3.68->langchain-google-genai) (1.0.9)\n",
            "Requirement already satisfied: idna in /usr/local/lib/python3.11/dist-packages (from httpx<1,>=0.23.0->langsmith>=0.3.45->langchain-core<0.4.0,>=0.3.68->langchain-google-genai) (3.10)\n",
            "Requirement already satisfied: h11>=0.16 in /usr/local/lib/python3.11/dist-packages (from httpcore==1.*->httpx<1,>=0.23.0->langsmith>=0.3.45->langchain-core<0.4.0,>=0.3.68->langchain-google-genai) (0.16.0)\n",
            "Requirement already satisfied: pyasn1<0.7.0,>=0.6.1 in /usr/local/lib/python3.11/dist-packages (from pyasn1-modules>=0.2.1->google-auth!=2.24.0,!=2.25.0,<3.0.0,>=2.14.1->google-ai-generativelanguage<0.7.0,>=0.6.18->langchain-google-genai) (0.6.1)\n",
            "Requirement already satisfied: charset-normalizer<4,>=2 in /usr/local/lib/python3.11/dist-packages (from requests<3.0.0,>=2.18.0->google-api-core!=2.0.*,!=2.1.*,!=2.10.*,!=2.2.*,!=2.3.*,!=2.4.*,!=2.5.*,!=2.6.*,!=2.7.*,!=2.8.*,!=2.9.*,<3.0.0,>=1.34.1->google-api-core[grpc]!=2.0.*,!=2.1.*,!=2.10.*,!=2.2.*,!=2.3.*,!=2.4.*,!=2.5.*,!=2.6.*,!=2.7.*,!=2.8.*,!=2.9.*,<3.0.0,>=1.34.1->google-ai-generativelanguage<0.7.0,>=0.6.18->langchain-google-genai) (3.4.2)\n",
            "Requirement already satisfied: urllib3<3,>=1.21.1 in /usr/local/lib/python3.11/dist-packages (from requests<3.0.0,>=2.18.0->google-api-core!=2.0.*,!=2.1.*,!=2.10.*,!=2.2.*,!=2.3.*,!=2.4.*,!=2.5.*,!=2.6.*,!=2.7.*,!=2.8.*,!=2.9.*,<3.0.0,>=1.34.1->google-api-core[grpc]!=2.0.*,!=2.1.*,!=2.10.*,!=2.2.*,!=2.3.*,!=2.4.*,!=2.5.*,!=2.6.*,!=2.7.*,!=2.8.*,!=2.9.*,<3.0.0,>=1.34.1->google-ai-generativelanguage<0.7.0,>=0.6.18->langchain-google-genai) (2.5.0)\n",
            "Requirement already satisfied: sniffio>=1.1 in /usr/local/lib/python3.11/dist-packages (from anyio->httpx<1,>=0.23.0->langsmith>=0.3.45->langchain-core<0.4.0,>=0.3.68->langchain-google-genai) (1.3.1)\n",
            "Downloading langchain_google_genai-2.1.9-py3-none-any.whl (49 kB)\n",
            "\u001b[2K   \u001b[90m━━━━━━━━━━━━━━━━━━━━━━━━━━━━━━━━━━━━━━━━\u001b[0m \u001b[32m49.4/49.4 kB\u001b[0m \u001b[31m3.0 MB/s\u001b[0m eta \u001b[36m0:00:00\u001b[0m\n",
            "\u001b[?25hDownloading filetype-1.2.0-py2.py3-none-any.whl (19 kB)\n",
            "Downloading google_ai_generativelanguage-0.6.18-py3-none-any.whl (1.4 MB)\n",
            "\u001b[2K   \u001b[90m━━━━━━━━━━━━━━━━━━━━━━━━━━━━━━━━━━━━━━━━\u001b[0m \u001b[32m1.4/1.4 MB\u001b[0m \u001b[31m34.7 MB/s\u001b[0m eta \u001b[36m0:00:00\u001b[0m\n",
            "\u001b[?25hInstalling collected packages: filetype, google-ai-generativelanguage, langchain-google-genai\n",
            "  Attempting uninstall: google-ai-generativelanguage\n",
            "    Found existing installation: google-ai-generativelanguage 0.6.15\n",
            "    Uninstalling google-ai-generativelanguage-0.6.15:\n",
            "      Successfully uninstalled google-ai-generativelanguage-0.6.15\n",
            "\u001b[31mERROR: pip's dependency resolver does not currently take into account all the packages that are installed. This behaviour is the source of the following dependency conflicts.\n",
            "google-generativeai 0.8.5 requires google-ai-generativelanguage==0.6.15, but you have google-ai-generativelanguage 0.6.18 which is incompatible.\u001b[0m\u001b[31m\n",
            "\u001b[0mSuccessfully installed filetype-1.2.0 google-ai-generativelanguage-0.6.18 langchain-google-genai-2.1.9\n"
          ]
        },
        {
          "output_type": "display_data",
          "data": {
            "application/vnd.colab-display-data+json": {
              "pip_warning": {
                "packages": [
                  "google"
                ]
              },
              "id": "701f516209ba4caba65543fc5568b8b1"
            }
          },
          "metadata": {}
        }
      ]
    },
    {
      "cell_type": "code",
      "source": [
        "!pip install python-dotenv"
      ],
      "metadata": {
        "id": "zLnmMVZK0dpB",
        "outputId": "4ab9a42d-c4df-4e41-b6cb-681c219a4905",
        "colab": {
          "base_uri": "https://localhost:8080/"
        }
      },
      "id": "zLnmMVZK0dpB",
      "execution_count": 6,
      "outputs": [
        {
          "output_type": "stream",
          "name": "stdout",
          "text": [
            "Requirement already satisfied: python-dotenv in /usr/local/lib/python3.11/dist-packages (1.1.1)\n"
          ]
        }
      ]
    },
    {
      "cell_type": "markdown",
      "id": "PEwKwQm5VxqE",
      "metadata": {
        "id": "PEwKwQm5VxqE"
      },
      "source": [
        "# New section"
      ]
    },
    {
      "cell_type": "code",
      "execution_count": null,
      "id": "7d49c22a-1ad0-4395-b93b-aa95660aa026",
      "metadata": {
        "id": "7d49c22a-1ad0-4395-b93b-aa95660aa026"
      },
      "outputs": [],
      "source": [
        "from langchain_community.document_loaders import PyPDFLoader\n",
        "\n",
        "loader = PyPDFLoader(\"edufund.pdf\")\n",
        "data = loader.load()\n"
      ]
    },
    {
      "cell_type": "code",
      "execution_count": null,
      "id": "29633e3b-ff24-4ace-a09b-c03b6e28c5cc",
      "metadata": {
        "colab": {
          "base_uri": "https://localhost:8080/"
        },
        "id": "29633e3b-ff24-4ace-a09b-c03b6e28c5cc",
        "outputId": "4e00b23d-8091-4625-d746-00a09c32ed48"
      },
      "outputs": [
        {
          "output_type": "stream",
          "name": "stdout",
          "text": [
            "Total number of documents:  72\n",
            "page_content='WHAT ARE MUTUAL FUNDS?\n",
            "A mutual fund is a pool of money managed by a professional Fund Manager.\n",
            "It is a trust that collects money from a number of investors who share a common investment objective and invests the same in equities, bonds, money market instruments and/or other securities. And the income / gains generated from this collective investment is distributed proportionately amongst the investors after deducting applicable expenses and levies, by calculating a scheme’s “Net Asset Value” or NAV. Simply put, the money pooled in by a large number of investors is what makes up a Mutual Fund.' metadata={'source': 'edufund.pdf', 'page': 0}\n",
            "page_content='Here’s a simple way to understand the concept of a Mutual Fund Unit. Let’s say that there is a box of 12 chocolates costing ₹40. Four friends decide to buy the same, but they have only ₹10 each and the shopkeeper only sells by the box. So the friends then decide to pool in ₹10 each and buy the box of 12 chocolates. Now based on their contribution, they each receive 3 chocolates or 3 units, if equated with Mutual Funds. And how do you calculate the cost of one unit? Simply divide the total amount with the total number of chocolates: 40/12 = 3.33. So if you were to multiply the number of units (3) with the cost per unit (3.33), you get the initial investment of ₹10.\n",
            "This results in each friend being a unit holder in the box of chocolates that is collectively owned by all of them, with each person being a part owner of the box.' metadata={'source': 'edufund.pdf', 'page': 0}\n",
            "page_content='This results in each friend being a unit holder in the box of chocolates that is collectively owned by all of them, with each person being a part owner of the box.\n",
            "Next, let us understand what is “Net Asset Value” or NAV. Just like an equity share has a traded price, a mutual fund unit has Net Asset Value per Unit. The NAV is the combined market value of the shares, bonds and securities held by a fund on any particular day (as reduced by permitted expenses and charges). NAV per Unit represents the market value of all the Units in a mutual fund scheme on a given day, net of all expenses and liabilities plus income accrued, divided by the outstanding number of Units in the scheme.' metadata={'source': 'edufund.pdf', 'page': 0}\n",
            "page_content='Mutual funds are ideal for investors who either lack large sums for investment, or for those who neither have the inclination nor the time to research the market, yet want to grow their wealth. The money collected in mutual funds is invested by professional fund managers in line with the scheme’s stated objective. In return, the fund house charges a small fee which is deducted from the investment. The fees charged by mutual funds are regulated and are subject to certain limits speciﬁed by the Securities and Exchange Board of India (SEBI).\n",
            "India has one of the highest savings rate globally. This penchant for wealth creation makes it necessary for Indian investors to look beyond the traditionally favoured bank FDs and gold towards mutual funds. However, lack of awareness has made mutual funds a less preferred investment avenue.' metadata={'source': 'edufund.pdf', 'page': 0}\n",
            "page_content='India has one of the highest savings rate globally. This penchant for wealth creation makes it necessary for Indian investors to look beyond the traditionally favoured bank FDs and gold towards mutual funds. However, lack of awareness has made mutual funds a less preferred investment avenue.\n",
            "Mutual funds oﬀer multiple product choices for investment across the ﬁnancial spectrum. As investment goals vary – post-retirement expenses, money for children’s education or marriage, house purchase, etc. – the products required to achieve these goals vary too. The Indian mutual fund industry oﬀers a plethora of schemes and caters to all types of investor needs.' metadata={'source': 'edufund.pdf', 'page': 0}\n",
            "page_content='Mutual funds oﬀer multiple product choices for investment across the ﬁnancial spectrum. As investment goals vary – post-retirement expenses, money for children’s education or marriage, house purchase, etc. – the products required to achieve these goals vary too. The Indian mutual fund industry oﬀers a plethora of schemes and caters to all types of investor needs.\n",
            "Mutual funds oﬀer an excellent avenue for retail investors to participate and beneﬁt from the uptrends in capital markets. While investing in mutual funds can be beneﬁcial, selecting the right fund can be challenging. Hence, investors should do proper due diligence of the fund and take into consideration the risk-return trade-oﬀ and time horizon or consult a professional investment adviser. Further, in order to reap maximum beneﬁt from mutual fund investments, it is important for investors to diversify across diﬀerent categories of funds such as equity, debt and gold.' metadata={'source': 'edufund.pdf', 'page': 0}\n",
            "page_content='Mutual funds oﬀer an excellent avenue for retail investors to participate and beneﬁt from the uptrends in capital markets. While investing in mutual funds can be beneﬁcial, selecting the right fund can be challenging. Hence, investors should do proper due diligence of the fund and take into consideration the risk-return trade-oﬀ and time horizon or consult a professional investment adviser. Further, in order to reap maximum beneﬁt from mutual fund investments, it is important for investors to diversify across diﬀerent categories of funds such as equity, debt and gold.\n",
            "While investors of all categories can invest in securities market on their own, a mutual fund is a better choice for the only reason that all beneﬁts come in a package.' metadata={'source': 'edufund.pdf', 'page': 0}\n",
            "page_content='Everything you need to learn about education loans for studying abroadBasics of Education LoansEducation loans are crucial ﬁnancial support for students studying abroad, offered by banks and ﬁnancial institutions at competitive interest rates to make quality education more accessible.Studying abroad at prestigious universities can be expensive. Education loans help bridge the ﬁnancial gap and enable students from diverse backgrounds to achieve their academic goals at top-tier institutions worldwide.Looking for the best education loan to ﬁnance your overseas studies can be overwhelming. Fortunately, Edufund Loans is here to help. We provide expert guidance to students seeking the ideal education loan that matches their study abroad needs. We aim to make the loan approval process hassle-free and seamless for our clients.Types of Education Loans to Study AbroadFor Indian students planning to study abroad, it’s essential to understand the difference between secured and unsecured education' metadata={'source': 'edufund.pdf', 'page': 1}\n",
            "page_content='you need to learn about education loans for studying abroadBasics of Education LoansEducation loans are crucial ﬁnancial support for students studying abroad, offered by banks and ﬁnancial institutions at competitive interest rates to make quality education more accessible.Studying abroad at prestigious universities can be expensive. Education loans help bridge the ﬁnancial gap and enable students from diverse backgrounds to achieve their academic goals at top-tier institutions worldwide.Looking for the best education loan to ﬁnance your overseas studies can be overwhelming. Fortunately, Edufund Loans is here to help. We provide expert guidance to students seeking the ideal education loan that matches their study abroad needs. We aim to make the loan approval process hassle-free and seamless for our clients.Types of Education Loans to Study AbroadFor Indian students planning to study abroad, it’s essential to understand the difference between secured and unsecured education loans' metadata={'source': 'edufund.pdf', 'page': 1}\n",
            "page_content='need to learn about education loans for studying abroadBasics of Education LoansEducation loans are crucial ﬁnancial support for students studying abroad, offered by banks and ﬁnancial institutions at competitive interest rates to make quality education more accessible.Studying abroad at prestigious universities can be expensive. Education loans help bridge the ﬁnancial gap and enable students from diverse backgrounds to achieve their academic goals at top-tier institutions worldwide.Looking for the best education loan to ﬁnance your overseas studies can be overwhelming. Fortunately, Edufund Loans is here to help. We provide expert guidance to students seeking the ideal education loan that matches their study abroad needs. We aim to make the loan approval process hassle-free and seamless for our clients.Types of Education Loans to Study AbroadFor Indian students planning to study abroad, it’s essential to understand the difference between secured and unsecured education loans before' metadata={'source': 'edufund.pdf', 'page': 1}\n",
            "page_content='to learn about education loans for studying abroadBasics of Education LoansEducation loans are crucial ﬁnancial support for students studying abroad, offered by banks and ﬁnancial institutions at competitive interest rates to make quality education more accessible.Studying abroad at prestigious universities can be expensive. Education loans help bridge the ﬁnancial gap and enable students from diverse backgrounds to achieve their academic goals at top-tier institutions worldwide.Looking for the best education loan to ﬁnance your overseas studies can be overwhelming. Fortunately, Edufund Loans is here to help. We provide expert guidance to students seeking the ideal education loan that matches their study abroad needs. We aim to make the loan approval process hassle-free and seamless for our clients.Types of Education Loans to Study AbroadFor Indian students planning to study abroad, it’s essential to understand the difference between secured and unsecured education loans before making' metadata={'source': 'edufund.pdf', 'page': 1}\n",
            "page_content='about education loans for studying abroadBasics of Education LoansEducation loans are crucial ﬁnancial support for students studying abroad, offered by banks and ﬁnancial institutions at competitive interest rates to make quality education more accessible.Studying abroad at prestigious universities can be expensive. Education loans help bridge the ﬁnancial gap and enable students from diverse backgrounds to achieve their academic goals at top-tier institutions worldwide.Looking for the best education loan to ﬁnance your overseas studies can be overwhelming. Fortunately, Edufund Loans is here to help. We provide expert guidance to students seeking the ideal education loan that matches their study abroad needs. We aim to make the loan approval process hassle-free and seamless for our clients.Types of Education Loans to Study AbroadFor Indian students planning to study abroad, it’s essential to understand the difference between secured and unsecured education loans before making a' metadata={'source': 'edufund.pdf', 'page': 1}\n",
            "page_content='loans for studying abroadBasics of Education LoansEducation loans are crucial ﬁnancial support for students studying abroad, offered by banks and ﬁnancial institutions at competitive interest rates to make quality education more accessible.Studying abroad at prestigious universities can be expensive. Education loans help bridge the ﬁnancial gap and enable students from diverse backgrounds to achieve their academic goals at top-tier institutions worldwide.Looking for the best education loan to ﬁnance your overseas studies can be overwhelming. Fortunately, Edufund Loans is here to help. We provide expert guidance to students seeking the ideal education loan that matches their study abroad needs. We aim to make the loan approval process hassle-free and seamless for our clients.Types of Education Loans to Study AbroadFor Indian students planning to study abroad, it’s essential to understand the difference between secured and unsecured education loans before making a choice.Secured' metadata={'source': 'edufund.pdf', 'page': 1}\n",
            "page_content='studying abroadBasics of Education LoansEducation loans are crucial ﬁnancial support for students studying abroad, offered by banks and ﬁnancial institutions at competitive interest rates to make quality education more accessible.Studying abroad at prestigious universities can be expensive. Education loans help bridge the ﬁnancial gap and enable students from diverse backgrounds to achieve their academic goals at top-tier institutions worldwide.Looking for the best education loan to ﬁnance your overseas studies can be overwhelming. Fortunately, Edufund Loans is here to help. We provide expert guidance to students seeking the ideal education loan that matches their study abroad needs. We aim to make the loan approval process hassle-free and seamless for our clients.Types of Education Loans to Study AbroadFor Indian students planning to study abroad, it’s essential to understand the difference between secured and unsecured education loans before making a choice.Secured education' metadata={'source': 'edufund.pdf', 'page': 1}\n",
            "page_content='abroadBasics of Education LoansEducation loans are crucial ﬁnancial support for students studying abroad, offered by banks and ﬁnancial institutions at competitive interest rates to make quality education more accessible.Studying abroad at prestigious universities can be expensive. Education loans help bridge the ﬁnancial gap and enable students from diverse backgrounds to achieve their academic goals at top-tier institutions worldwide.Looking for the best education loan to ﬁnance your overseas studies can be overwhelming. Fortunately, Edufund Loans is here to help. We provide expert guidance to students seeking the ideal education loan that matches their study abroad needs. We aim to make the loan approval process hassle-free and seamless for our clients.Types of Education Loans to Study AbroadFor Indian students planning to study abroad, it’s essential to understand the difference between secured and unsecured education loans before making a choice.Secured education loan:•Requires' metadata={'source': 'edufund.pdf', 'page': 1}\n",
            "page_content='of Education LoansEducation loans are crucial ﬁnancial support for students studying abroad, offered by banks and ﬁnancial institutions at competitive interest rates to make quality education more accessible.Studying abroad at prestigious universities can be expensive. Education loans help bridge the ﬁnancial gap and enable students from diverse backgrounds to achieve their academic goals at top-tier institutions worldwide.Looking for the best education loan to ﬁnance your overseas studies can be overwhelming. Fortunately, Edufund Loans is here to help. We provide expert guidance to students seeking the ideal education loan that matches their study abroad needs. We aim to make the loan approval process hassle-free and seamless for our clients.Types of Education Loans to Study AbroadFor Indian students planning to study abroad, it’s essential to understand the difference between secured and unsecured education loans before making a choice.Secured education loan:•Requires collateral' metadata={'source': 'edufund.pdf', 'page': 1}\n",
            "page_content='Education LoansEducation loans are crucial ﬁnancial support for students studying abroad, offered by banks and ﬁnancial institutions at competitive interest rates to make quality education more accessible.Studying abroad at prestigious universities can be expensive. Education loans help bridge the ﬁnancial gap and enable students from diverse backgrounds to achieve their academic goals at top-tier institutions worldwide.Looking for the best education loan to ﬁnance your overseas studies can be overwhelming. Fortunately, Edufund Loans is here to help. We provide expert guidance to students seeking the ideal education loan that matches their study abroad needs. We aim to make the loan approval process hassle-free and seamless for our clients.Types of Education Loans to Study AbroadFor Indian students planning to study abroad, it’s essential to understand the difference between secured and unsecured education loans before making a choice.Secured education loan:•Requires collateral such' metadata={'source': 'edufund.pdf', 'page': 1}\n",
            "page_content='LoansEducation loans are crucial ﬁnancial support for students studying abroad, offered by banks and ﬁnancial institutions at competitive interest rates to make quality education more accessible.Studying abroad at prestigious universities can be expensive. Education loans help bridge the ﬁnancial gap and enable students from diverse backgrounds to achieve their academic goals at top-tier institutions worldwide.Looking for the best education loan to ﬁnance your overseas studies can be overwhelming. Fortunately, Edufund Loans is here to help. We provide expert guidance to students seeking the ideal education loan that matches their study abroad needs. We aim to make the loan approval process hassle-free and seamless for our clients.Types of Education Loans to Study AbroadFor Indian students planning to study abroad, it’s essential to understand the difference between secured and unsecured education loans before making a choice.Secured education loan:•Requires collateral such as' metadata={'source': 'edufund.pdf', 'page': 1}\n",
            "page_content='loans are crucial ﬁnancial support for students studying abroad, offered by banks and ﬁnancial institutions at competitive interest rates to make quality education more accessible.Studying abroad at prestigious universities can be expensive. Education loans help bridge the ﬁnancial gap and enable students from diverse backgrounds to achieve their academic goals at top-tier institutions worldwide.Looking for the best education loan to ﬁnance your overseas studies can be overwhelming. Fortunately, Edufund Loans is here to help. We provide expert guidance to students seeking the ideal education loan that matches their study abroad needs. We aim to make the loan approval process hassle-free and seamless for our clients.Types of Education Loans to Study AbroadFor Indian students planning to study abroad, it’s essential to understand the difference between secured and unsecured education loans before making a choice.Secured education loan:•Requires collateral such as property, ﬁxed' metadata={'source': 'edufund.pdf', 'page': 1}\n",
            "page_content='are crucial ﬁnancial support for students studying abroad, offered by banks and ﬁnancial institutions at competitive interest rates to make quality education more accessible.Studying abroad at prestigious universities can be expensive. Education loans help bridge the ﬁnancial gap and enable students from diverse backgrounds to achieve their academic goals at top-tier institutions worldwide.Looking for the best education loan to ﬁnance your overseas studies can be overwhelming. Fortunately, Edufund Loans is here to help. We provide expert guidance to students seeking the ideal education loan that matches their study abroad needs. We aim to make the loan approval process hassle-free and seamless for our clients.Types of Education Loans to Study AbroadFor Indian students planning to study abroad, it’s essential to understand the difference between secured and unsecured education loans before making a choice.Secured education loan:•Requires collateral such as property, ﬁxed deposits, or' metadata={'source': 'edufund.pdf', 'page': 1}\n",
            "page_content='ﬁnancial support for students studying abroad, offered by banks and ﬁnancial institutions at competitive interest rates to make quality education more accessible.Studying abroad at prestigious universities can be expensive. Education loans help bridge the ﬁnancial gap and enable students from diverse backgrounds to achieve their academic goals at top-tier institutions worldwide.Looking for the best education loan to ﬁnance your overseas studies can be overwhelming. Fortunately, Edufund Loans is here to help. We provide expert guidance to students seeking the ideal education loan that matches their study abroad needs. We aim to make the loan approval process hassle-free and seamless for our clients.Types of Education Loans to Study AbroadFor Indian students planning to study abroad, it’s essential to understand the difference between secured and unsecured education loans before making a choice.Secured education loan:•Requires collateral such as property, ﬁxed deposits, or insurance' metadata={'source': 'edufund.pdf', 'page': 1}\n",
            "page_content='for students studying abroad, offered by banks and ﬁnancial institutions at competitive interest rates to make quality education more accessible.Studying abroad at prestigious universities can be expensive. Education loans help bridge the ﬁnancial gap and enable students from diverse backgrounds to achieve their academic goals at top-tier institutions worldwide.Looking for the best education loan to ﬁnance your overseas studies can be overwhelming. Fortunately, Edufund Loans is here to help. We provide expert guidance to students seeking the ideal education loan that matches their study abroad needs. We aim to make the loan approval process hassle-free and seamless for our clients.Types of Education Loans to Study AbroadFor Indian students planning to study abroad, it’s essential to understand the difference between secured and unsecured education loans before making a choice.Secured education loan:•Requires collateral such as property, ﬁxed deposits, or insurance policies.•Offers a' metadata={'source': 'edufund.pdf', 'page': 1}\n",
            "page_content='students studying abroad, offered by banks and ﬁnancial institutions at competitive interest rates to make quality education more accessible.Studying abroad at prestigious universities can be expensive. Education loans help bridge the ﬁnancial gap and enable students from diverse backgrounds to achieve their academic goals at top-tier institutions worldwide.Looking for the best education loan to ﬁnance your overseas studies can be overwhelming. Fortunately, Edufund Loans is here to help. We provide expert guidance to students seeking the ideal education loan that matches their study abroad needs. We aim to make the loan approval process hassle-free and seamless for our clients.Types of Education Loans to Study AbroadFor Indian students planning to study abroad, it’s essential to understand the difference between secured and unsecured education loans before making a choice.Secured education loan:•Requires collateral such as property, ﬁxed deposits, or insurance policies.•Offers a lower' metadata={'source': 'edufund.pdf', 'page': 1}\n",
            "page_content='studying abroad, offered by banks and ﬁnancial institutions at competitive interest rates to make quality education more accessible.Studying abroad at prestigious universities can be expensive. Education loans help bridge the ﬁnancial gap and enable students from diverse backgrounds to achieve their academic goals at top-tier institutions worldwide.Looking for the best education loan to ﬁnance your overseas studies can be overwhelming. Fortunately, Edufund Loans is here to help. We provide expert guidance to students seeking the ideal education loan that matches their study abroad needs. We aim to make the loan approval process hassle-free and seamless for our clients.Types of Education Loans to Study AbroadFor Indian students planning to study abroad, it’s essential to understand the difference between secured and unsecured education loans before making a choice.Secured education loan:•Requires collateral such as property, ﬁxed deposits, or insurance policies.•Offers a lower interest' metadata={'source': 'edufund.pdf', 'page': 1}\n",
            "page_content='offered by banks and ﬁnancial institutions at competitive interest rates to make quality education more accessible.Studying abroad at prestigious universities can be expensive. Education loans help bridge the ﬁnancial gap and enable students from diverse backgrounds to achieve their academic goals at top-tier institutions worldwide.Looking for the best education loan to ﬁnance your overseas studies can be overwhelming. Fortunately, Edufund Loans is here to help. We provide expert guidance to students seeking the ideal education loan that matches their study abroad needs. We aim to make the loan approval process hassle-free and seamless for our clients.Types of Education Loans to Study AbroadFor Indian students planning to study abroad, it’s essential to understand the difference between secured and unsecured education loans before making a choice.Secured education loan:•Requires collateral such as property, ﬁxed deposits, or insurance policies.•Offers a lower interest rate.•Higher' metadata={'source': 'edufund.pdf', 'page': 1}\n",
            "page_content='by banks and ﬁnancial institutions at competitive interest rates to make quality education more accessible.Studying abroad at prestigious universities can be expensive. Education loans help bridge the ﬁnancial gap and enable students from diverse backgrounds to achieve their academic goals at top-tier institutions worldwide.Looking for the best education loan to ﬁnance your overseas studies can be overwhelming. Fortunately, Edufund Loans is here to help. We provide expert guidance to students seeking the ideal education loan that matches their study abroad needs. We aim to make the loan approval process hassle-free and seamless for our clients.Types of Education Loans to Study AbroadFor Indian students planning to study abroad, it’s essential to understand the difference between secured and unsecured education loans before making a choice.Secured education loan:•Requires collateral such as property, ﬁxed deposits, or insurance policies.•Offers a lower interest rate.•Higher chances of' metadata={'source': 'edufund.pdf', 'page': 1}\n",
            "page_content='and ﬁnancial institutions at competitive interest rates to make quality education more accessible.Studying abroad at prestigious universities can be expensive. Education loans help bridge the ﬁnancial gap and enable students from diverse backgrounds to achieve their academic goals at top-tier institutions worldwide.Looking for the best education loan to ﬁnance your overseas studies can be overwhelming. Fortunately, Edufund Loans is here to help. We provide expert guidance to students seeking the ideal education loan that matches their study abroad needs. We aim to make the loan approval process hassle-free and seamless for our clients.Types of Education Loans to Study AbroadFor Indian students planning to study abroad, it’s essential to understand the difference between secured and unsecured education loans before making a choice.Secured education loan:•Requires collateral such as property, ﬁxed deposits, or insurance policies.•Offers a lower interest rate.•Higher chances of approval.' metadata={'source': 'edufund.pdf', 'page': 1}\n",
            "page_content='•Longer repayment period.•Allows for a higher loan amount.•No repayment required during the study period.•Parental income not necessary for approval.Unsecured education loan:•No collateral required.•Typically carries a higher interest rate, usually 1.5% to 4% more than secured loans.•Can be more challenging to obtain due to higher risk for the bank.•Shorter repayment period.•Some repayment may be required during the study period.•Parental income is usually required for approval.Student Loan Options for Indian Students Studying AbroadStudents typically have three types of lenders to consider for education loans to study abroad: banks, Non-Banking Financial Companies (NBFCs), and international lenders.Banks: These traditional ﬁnancial institutions provide education loans to Indian students pursuing studies abroad. They are further categorized into public and private banks.NBFCs: Non-Banking Financial Companies operate similarly to banks without a banking license. They offer various' metadata={'source': 'edufund.pdf', 'page': 2}\n",
            "page_content='repayment period.•Allows for a higher loan amount.•No repayment required during the study period.•Parental income not necessary for approval.Unsecured education loan:•No collateral required.•Typically carries a higher interest rate, usually 1.5% to 4% more than secured loans.•Can be more challenging to obtain due to higher risk for the bank.•Shorter repayment period.•Some repayment may be required during the study period.•Parental income is usually required for approval.Student Loan Options for Indian Students Studying AbroadStudents typically have three types of lenders to consider for education loans to study abroad: banks, Non-Banking Financial Companies (NBFCs), and international lenders.Banks: These traditional ﬁnancial institutions provide education loans to Indian students pursuing studies abroad. They are further categorized into public and private banks.NBFCs: Non-Banking Financial Companies operate similarly to banks without a banking license. They offer various ﬁnancial' metadata={'source': 'edufund.pdf', 'page': 2}\n",
            "page_content='period.•Allows for a higher loan amount.•No repayment required during the study period.•Parental income not necessary for approval.Unsecured education loan:•No collateral required.•Typically carries a higher interest rate, usually 1.5% to 4% more than secured loans.•Can be more challenging to obtain due to higher risk for the bank.•Shorter repayment period.•Some repayment may be required during the study period.•Parental income is usually required for approval.Student Loan Options for Indian Students Studying AbroadStudents typically have three types of lenders to consider for education loans to study abroad: banks, Non-Banking Financial Companies (NBFCs), and international lenders.Banks: These traditional ﬁnancial institutions provide education loans to Indian students pursuing studies abroad. They are further categorized into public and private banks.NBFCs: Non-Banking Financial Companies operate similarly to banks without a banking license. They offer various ﬁnancial services,' metadata={'source': 'edufund.pdf', 'page': 2}\n",
            "page_content='for a higher loan amount.•No repayment required during the study period.•Parental income not necessary for approval.Unsecured education loan:•No collateral required.•Typically carries a higher interest rate, usually 1.5% to 4% more than secured loans.•Can be more challenging to obtain due to higher risk for the bank.•Shorter repayment period.•Some repayment may be required during the study period.•Parental income is usually required for approval.Student Loan Options for Indian Students Studying AbroadStudents typically have three types of lenders to consider for education loans to study abroad: banks, Non-Banking Financial Companies (NBFCs), and international lenders.Banks: These traditional ﬁnancial institutions provide education loans to Indian students pursuing studies abroad. They are further categorized into public and private banks.NBFCs: Non-Banking Financial Companies operate similarly to banks without a banking license. They offer various ﬁnancial services, including' metadata={'source': 'edufund.pdf', 'page': 2}\n",
            "page_content='a higher loan amount.•No repayment required during the study period.•Parental income not necessary for approval.Unsecured education loan:•No collateral required.•Typically carries a higher interest rate, usually 1.5% to 4% more than secured loans.•Can be more challenging to obtain due to higher risk for the bank.•Shorter repayment period.•Some repayment may be required during the study period.•Parental income is usually required for approval.Student Loan Options for Indian Students Studying AbroadStudents typically have three types of lenders to consider for education loans to study abroad: banks, Non-Banking Financial Companies (NBFCs), and international lenders.Banks: These traditional ﬁnancial institutions provide education loans to Indian students pursuing studies abroad. They are further categorized into public and private banks.NBFCs: Non-Banking Financial Companies operate similarly to banks without a banking license. They offer various ﬁnancial services, including education' metadata={'source': 'edufund.pdf', 'page': 2}\n",
            "page_content='loan amount.•No repayment required during the study period.•Parental income not necessary for approval.Unsecured education loan:•No collateral required.•Typically carries a higher interest rate, usually 1.5% to 4% more than secured loans.•Can be more challenging to obtain due to higher risk for the bank.•Shorter repayment period.•Some repayment may be required during the study period.•Parental income is usually required for approval.Student Loan Options for Indian Students Studying AbroadStudents typically have three types of lenders to consider for education loans to study abroad: banks, Non-Banking Financial Companies (NBFCs), and international lenders.Banks: These traditional ﬁnancial institutions provide education loans to Indian students pursuing studies abroad. They are further categorized into public and private banks.NBFCs: Non-Banking Financial Companies operate similarly to banks without a banking license. They offer various ﬁnancial services, including education loans, to' metadata={'source': 'edufund.pdf', 'page': 2}\n",
            "page_content='amount.•No repayment required during the study period.•Parental income not necessary for approval.Unsecured education loan:•No collateral required.•Typically carries a higher interest rate, usually 1.5% to 4% more than secured loans.•Can be more challenging to obtain due to higher risk for the bank.•Shorter repayment period.•Some repayment may be required during the study period.•Parental income is usually required for approval.Student Loan Options for Indian Students Studying AbroadStudents typically have three types of lenders to consider for education loans to study abroad: banks, Non-Banking Financial Companies (NBFCs), and international lenders.Banks: These traditional ﬁnancial institutions provide education loans to Indian students pursuing studies abroad. They are further categorized into public and private banks.NBFCs: Non-Banking Financial Companies operate similarly to banks without a banking license. They offer various ﬁnancial services, including education loans, to Indian' metadata={'source': 'edufund.pdf', 'page': 2}\n",
            "page_content='repayment required during the study period.•Parental income not necessary for approval.Unsecured education loan:•No collateral required.•Typically carries a higher interest rate, usually 1.5% to 4% more than secured loans.•Can be more challenging to obtain due to higher risk for the bank.•Shorter repayment period.•Some repayment may be required during the study period.•Parental income is usually required for approval.Student Loan Options for Indian Students Studying AbroadStudents typically have three types of lenders to consider for education loans to study abroad: banks, Non-Banking Financial Companies (NBFCs), and international lenders.Banks: These traditional ﬁnancial institutions provide education loans to Indian students pursuing studies abroad. They are further categorized into public and private banks.NBFCs: Non-Banking Financial Companies operate similarly to banks without a banking license. They offer various ﬁnancial services, including education loans, to Indian students' metadata={'source': 'edufund.pdf', 'page': 2}\n",
            "page_content='required during the study period.•Parental income not necessary for approval.Unsecured education loan:•No collateral required.•Typically carries a higher interest rate, usually 1.5% to 4% more than secured loans.•Can be more challenging to obtain due to higher risk for the bank.•Shorter repayment period.•Some repayment may be required during the study period.•Parental income is usually required for approval.Student Loan Options for Indian Students Studying AbroadStudents typically have three types of lenders to consider for education loans to study abroad: banks, Non-Banking Financial Companies (NBFCs), and international lenders.Banks: These traditional ﬁnancial institutions provide education loans to Indian students pursuing studies abroad. They are further categorized into public and private banks.NBFCs: Non-Banking Financial Companies operate similarly to banks without a banking license. They offer various ﬁnancial services, including education loans, to Indian students looking to' metadata={'source': 'edufund.pdf', 'page': 2}\n",
            "page_content='during the study period.•Parental income not necessary for approval.Unsecured education loan:•No collateral required.•Typically carries a higher interest rate, usually 1.5% to 4% more than secured loans.•Can be more challenging to obtain due to higher risk for the bank.•Shorter repayment period.•Some repayment may be required during the study period.•Parental income is usually required for approval.Student Loan Options for Indian Students Studying AbroadStudents typically have three types of lenders to consider for education loans to study abroad: banks, Non-Banking Financial Companies (NBFCs), and international lenders.Banks: These traditional ﬁnancial institutions provide education loans to Indian students pursuing studies abroad. They are further categorized into public and private banks.NBFCs: Non-Banking Financial Companies operate similarly to banks without a banking license. They offer various ﬁnancial services, including education loans, to Indian students looking to study' metadata={'source': 'edufund.pdf', 'page': 2}\n",
            "page_content='period.•Parental income not necessary for approval.Unsecured education loan:•No collateral required.•Typically carries a higher interest rate, usually 1.5% to 4% more than secured loans.•Can be more challenging to obtain due to higher risk for the bank.•Shorter repayment period.•Some repayment may be required during the study period.•Parental income is usually required for approval.Student Loan Options for Indian Students Studying AbroadStudents typically have three types of lenders to consider for education loans to study abroad: banks, Non-Banking Financial Companies (NBFCs), and international lenders.Banks: These traditional ﬁnancial institutions provide education loans to Indian students pursuing studies abroad. They are further categorized into public and private banks.NBFCs: Non-Banking Financial Companies operate similarly to banks without a banking license. They offer various ﬁnancial services, including education loans, to Indian students looking to study abroad.International' metadata={'source': 'edufund.pdf', 'page': 2}\n",
            "page_content='income not necessary for approval.Unsecured education loan:•No collateral required.•Typically carries a higher interest rate, usually 1.5% to 4% more than secured loans.•Can be more challenging to obtain due to higher risk for the bank.•Shorter repayment period.•Some repayment may be required during the study period.•Parental income is usually required for approval.Student Loan Options for Indian Students Studying AbroadStudents typically have three types of lenders to consider for education loans to study abroad: banks, Non-Banking Financial Companies (NBFCs), and international lenders.Banks: These traditional ﬁnancial institutions provide education loans to Indian students pursuing studies abroad. They are further categorized into public and private banks.NBFCs: Non-Banking Financial Companies operate similarly to banks without a banking license. They offer various ﬁnancial services, including education loans, to Indian students looking to study abroad.International Lenders: These' metadata={'source': 'edufund.pdf', 'page': 2}\n",
            "page_content='not necessary for approval.Unsecured education loan:•No collateral required.•Typically carries a higher interest rate, usually 1.5% to 4% more than secured loans.•Can be more challenging to obtain due to higher risk for the bank.•Shorter repayment period.•Some repayment may be required during the study period.•Parental income is usually required for approval.Student Loan Options for Indian Students Studying AbroadStudents typically have three types of lenders to consider for education loans to study abroad: banks, Non-Banking Financial Companies (NBFCs), and international lenders.Banks: These traditional ﬁnancial institutions provide education loans to Indian students pursuing studies abroad. They are further categorized into public and private banks.NBFCs: Non-Banking Financial Companies operate similarly to banks without a banking license. They offer various ﬁnancial services, including education loans, to Indian students looking to study abroad.International Lenders: These ﬁnancial' metadata={'source': 'edufund.pdf', 'page': 2}\n",
            "page_content='for approval.Unsecured education loan:•No collateral required.•Typically carries a higher interest rate, usually 1.5% to 4% more than secured loans.•Can be more challenging to obtain due to higher risk for the bank.•Shorter repayment period.•Some repayment may be required during the study period.•Parental income is usually required for approval.Student Loan Options for Indian Students Studying AbroadStudents typically have three types of lenders to consider for education loans to study abroad: banks, Non-Banking Financial Companies (NBFCs), and international lenders.Banks: These traditional ﬁnancial institutions provide education loans to Indian students pursuing studies abroad. They are further categorized into public and private banks.NBFCs: Non-Banking Financial Companies operate similarly to banks without a banking license. They offer various ﬁnancial services, including education loans, to Indian students looking to study abroad.International Lenders: These ﬁnancial entities' metadata={'source': 'edufund.pdf', 'page': 2}\n",
            "page_content='approval.Unsecured education loan:•No collateral required.•Typically carries a higher interest rate, usually 1.5% to 4% more than secured loans.•Can be more challenging to obtain due to higher risk for the bank.•Shorter repayment period.•Some repayment may be required during the study period.•Parental income is usually required for approval.Student Loan Options for Indian Students Studying AbroadStudents typically have three types of lenders to consider for education loans to study abroad: banks, Non-Banking Financial Companies (NBFCs), and international lenders.Banks: These traditional ﬁnancial institutions provide education loans to Indian students pursuing studies abroad. They are further categorized into public and private banks.NBFCs: Non-Banking Financial Companies operate similarly to banks without a banking license. They offer various ﬁnancial services, including education loans, to Indian students looking to study abroad.International Lenders: These ﬁnancial entities outside' metadata={'source': 'edufund.pdf', 'page': 2}\n",
            "page_content='education loan:•No collateral required.•Typically carries a higher interest rate, usually 1.5% to 4% more than secured loans.•Can be more challenging to obtain due to higher risk for the bank.•Shorter repayment period.•Some repayment may be required during the study period.•Parental income is usually required for approval.Student Loan Options for Indian Students Studying AbroadStudents typically have three types of lenders to consider for education loans to study abroad: banks, Non-Banking Financial Companies (NBFCs), and international lenders.Banks: These traditional ﬁnancial institutions provide education loans to Indian students pursuing studies abroad. They are further categorized into public and private banks.NBFCs: Non-Banking Financial Companies operate similarly to banks without a banking license. They offer various ﬁnancial services, including education loans, to Indian students looking to study abroad.International Lenders: These ﬁnancial entities outside India specialize in' metadata={'source': 'edufund.pdf', 'page': 2}\n",
            "page_content='loan:•No collateral required.•Typically carries a higher interest rate, usually 1.5% to 4% more than secured loans.•Can be more challenging to obtain due to higher risk for the bank.•Shorter repayment period.•Some repayment may be required during the study period.•Parental income is usually required for approval.Student Loan Options for Indian Students Studying AbroadStudents typically have three types of lenders to consider for education loans to study abroad: banks, Non-Banking Financial Companies (NBFCs), and international lenders.Banks: These traditional ﬁnancial institutions provide education loans to Indian students pursuing studies abroad. They are further categorized into public and private banks.NBFCs: Non-Banking Financial Companies operate similarly to banks without a banking license. They offer various ﬁnancial services, including education loans, to Indian students looking to study abroad.International Lenders: These ﬁnancial entities outside India specialize in offering' metadata={'source': 'edufund.pdf', 'page': 2}\n",
            "page_content='required.•Typically carries a higher interest rate, usually 1.5% to 4% more than secured loans.•Can be more challenging to obtain due to higher risk for the bank.•Shorter repayment period.•Some repayment may be required during the study period.•Parental income is usually required for approval.Student Loan Options for Indian Students Studying AbroadStudents typically have three types of lenders to consider for education loans to study abroad: banks, Non-Banking Financial Companies (NBFCs), and international lenders.Banks: These traditional ﬁnancial institutions provide education loans to Indian students pursuing studies abroad. They are further categorized into public and private banks.NBFCs: Non-Banking Financial Companies operate similarly to banks without a banking license. They offer various ﬁnancial services, including education loans, to Indian students looking to study abroad.International Lenders: These ﬁnancial entities outside India specialize in offering educational funding' metadata={'source': 'edufund.pdf', 'page': 2}\n",
            "page_content='carries a higher interest rate, usually 1.5% to 4% more than secured loans.•Can be more challenging to obtain due to higher risk for the bank.•Shorter repayment period.•Some repayment may be required during the study period.•Parental income is usually required for approval.Student Loan Options for Indian Students Studying AbroadStudents typically have three types of lenders to consider for education loans to study abroad: banks, Non-Banking Financial Companies (NBFCs), and international lenders.Banks: These traditional ﬁnancial institutions provide education loans to Indian students pursuing studies abroad. They are further categorized into public and private banks.NBFCs: Non-Banking Financial Companies operate similarly to banks without a banking license. They offer various ﬁnancial services, including education loans, to Indian students looking to study abroad.International Lenders: These ﬁnancial entities outside India specialize in offering educational funding for international' metadata={'source': 'edufund.pdf', 'page': 2}\n",
            "page_content='a higher interest rate, usually 1.5% to 4% more than secured loans.•Can be more challenging to obtain due to higher risk for the bank.•Shorter repayment period.•Some repayment may be required during the study period.•Parental income is usually required for approval.Student Loan Options for Indian Students Studying AbroadStudents typically have three types of lenders to consider for education loans to study abroad: banks, Non-Banking Financial Companies (NBFCs), and international lenders.Banks: These traditional ﬁnancial institutions provide education loans to Indian students pursuing studies abroad. They are further categorized into public and private banks.NBFCs: Non-Banking Financial Companies operate similarly to banks without a banking license. They offer various ﬁnancial services, including education loans, to Indian students looking to study abroad.International Lenders: These ﬁnancial entities outside India specialize in offering educational funding for international students,' metadata={'source': 'edufund.pdf', 'page': 2}\n",
            "page_content='interest rate, usually 1.5% to 4% more than secured loans.•Can be more challenging to obtain due to higher risk for the bank.•Shorter repayment period.•Some repayment may be required during the study period.•Parental income is usually required for approval.Student Loan Options for Indian Students Studying AbroadStudents typically have three types of lenders to consider for education loans to study abroad: banks, Non-Banking Financial Companies (NBFCs), and international lenders.Banks: These traditional ﬁnancial institutions provide education loans to Indian students pursuing studies abroad. They are further categorized into public and private banks.NBFCs: Non-Banking Financial Companies operate similarly to banks without a banking license. They offer various ﬁnancial services, including education loans, to Indian students looking to study abroad.International Lenders: These ﬁnancial entities outside India specialize in offering educational funding for international students, including' metadata={'source': 'edufund.pdf', 'page': 2}\n",
            "page_content='rate, usually 1.5% to 4% more than secured loans.•Can be more challenging to obtain due to higher risk for the bank.•Shorter repayment period.•Some repayment may be required during the study period.•Parental income is usually required for approval.Student Loan Options for Indian Students Studying AbroadStudents typically have three types of lenders to consider for education loans to study abroad: banks, Non-Banking Financial Companies (NBFCs), and international lenders.Banks: These traditional ﬁnancial institutions provide education loans to Indian students pursuing studies abroad. They are further categorized into public and private banks.NBFCs: Non-Banking Financial Companies operate similarly to banks without a banking license. They offer various ﬁnancial services, including education loans, to Indian students looking to study abroad.International Lenders: These ﬁnancial entities outside India specialize in offering educational funding for international students, including those' metadata={'source': 'edufund.pdf', 'page': 2}\n",
            "page_content='usually 1.5% to 4% more than secured loans.•Can be more challenging to obtain due to higher risk for the bank.•Shorter repayment period.•Some repayment may be required during the study period.•Parental income is usually required for approval.Student Loan Options for Indian Students Studying AbroadStudents typically have three types of lenders to consider for education loans to study abroad: banks, Non-Banking Financial Companies (NBFCs), and international lenders.Banks: These traditional ﬁnancial institutions provide education loans to Indian students pursuing studies abroad. They are further categorized into public and private banks.NBFCs: Non-Banking Financial Companies operate similarly to banks without a banking license. They offer various ﬁnancial services, including education loans, to Indian students looking to study abroad.International Lenders: These ﬁnancial entities outside India specialize in offering educational funding for international students, including those from' metadata={'source': 'edufund.pdf', 'page': 2}\n",
            "page_content='1.5% to 4% more than secured loans.•Can be more challenging to obtain due to higher risk for the bank.•Shorter repayment period.•Some repayment may be required during the study period.•Parental income is usually required for approval.Student Loan Options for Indian Students Studying AbroadStudents typically have three types of lenders to consider for education loans to study abroad: banks, Non-Banking Financial Companies (NBFCs), and international lenders.Banks: These traditional ﬁnancial institutions provide education loans to Indian students pursuing studies abroad. They are further categorized into public and private banks.NBFCs: Non-Banking Financial Companies operate similarly to banks without a banking license. They offer various ﬁnancial services, including education loans, to Indian students looking to study abroad.International Lenders: These ﬁnancial entities outside India specialize in offering educational funding for international students, including those from India' metadata={'source': 'edufund.pdf', 'page': 2}\n",
            "page_content='to 4% more than secured loans.•Can be more challenging to obtain due to higher risk for the bank.•Shorter repayment period.•Some repayment may be required during the study period.•Parental income is usually required for approval.Student Loan Options for Indian Students Studying AbroadStudents typically have three types of lenders to consider for education loans to study abroad: banks, Non-Banking Financial Companies (NBFCs), and international lenders.Banks: These traditional ﬁnancial institutions provide education loans to Indian students pursuing studies abroad. They are further categorized into public and private banks.NBFCs: Non-Banking Financial Companies operate similarly to banks without a banking license. They offer various ﬁnancial services, including education loans, to Indian students looking to study abroad.International Lenders: These ﬁnancial entities outside India specialize in offering educational funding for international students, including those from India planning' metadata={'source': 'edufund.pdf', 'page': 2}\n",
            "page_content='4% more than secured loans.•Can be more challenging to obtain due to higher risk for the bank.•Shorter repayment period.•Some repayment may be required during the study period.•Parental income is usually required for approval.Student Loan Options for Indian Students Studying AbroadStudents typically have three types of lenders to consider for education loans to study abroad: banks, Non-Banking Financial Companies (NBFCs), and international lenders.Banks: These traditional ﬁnancial institutions provide education loans to Indian students pursuing studies abroad. They are further categorized into public and private banks.NBFCs: Non-Banking Financial Companies operate similarly to banks without a banking license. They offer various ﬁnancial services, including education loans, to Indian students looking to study abroad.International Lenders: These ﬁnancial entities outside India specialize in offering educational funding for international students, including those from India planning to' metadata={'source': 'edufund.pdf', 'page': 2}\n",
            "page_content='than secured loans.•Can be more challenging to obtain due to higher risk for the bank.•Shorter repayment period.•Some repayment may be required during the study period.•Parental income is usually required for approval.Student Loan Options for Indian Students Studying AbroadStudents typically have three types of lenders to consider for education loans to study abroad: banks, Non-Banking Financial Companies (NBFCs), and international lenders.Banks: These traditional ﬁnancial institutions provide education loans to Indian students pursuing studies abroad. They are further categorized into public and private banks.NBFCs: Non-Banking Financial Companies operate similarly to banks without a banking license. They offer various ﬁnancial services, including education loans, to Indian students looking to study abroad.International Lenders: These ﬁnancial entities outside India specialize in offering educational funding for international students, including those from India planning to study' metadata={'source': 'edufund.pdf', 'page': 2}\n",
            "page_content='loans.•Can be more challenging to obtain due to higher risk for the bank.•Shorter repayment period.•Some repayment may be required during the study period.•Parental income is usually required for approval.Student Loan Options for Indian Students Studying AbroadStudents typically have three types of lenders to consider for education loans to study abroad: banks, Non-Banking Financial Companies (NBFCs), and international lenders.Banks: These traditional ﬁnancial institutions provide education loans to Indian students pursuing studies abroad. They are further categorized into public and private banks.NBFCs: Non-Banking Financial Companies operate similarly to banks without a banking license. They offer various ﬁnancial services, including education loans, to Indian students looking to study abroad.International Lenders: These ﬁnancial entities outside India specialize in offering educational funding for international students, including those from India planning to study abroad.Required' metadata={'source': 'edufund.pdf', 'page': 2}\n",
            "page_content='be more challenging to obtain due to higher risk for the bank.•Shorter repayment period.•Some repayment may be required during the study period.•Parental income is usually required for approval.Student Loan Options for Indian Students Studying AbroadStudents typically have three types of lenders to consider for education loans to study abroad: banks, Non-Banking Financial Companies (NBFCs), and international lenders.Banks: These traditional ﬁnancial institutions provide education loans to Indian students pursuing studies abroad. They are further categorized into public and private banks.NBFCs: Non-Banking Financial Companies operate similarly to banks without a banking license. They offer various ﬁnancial services, including education loans, to Indian students looking to study abroad.International Lenders: These ﬁnancial entities outside India specialize in offering educational funding for international students, including those from India planning to study abroad.Required Documents' metadata={'source': 'edufund.pdf', 'page': 2}\n",
            "page_content='more challenging to obtain due to higher risk for the bank.•Shorter repayment period.•Some repayment may be required during the study period.•Parental income is usually required for approval.Student Loan Options for Indian Students Studying AbroadStudents typically have three types of lenders to consider for education loans to study abroad: banks, Non-Banking Financial Companies (NBFCs), and international lenders.Banks: These traditional ﬁnancial institutions provide education loans to Indian students pursuing studies abroad. They are further categorized into public and private banks.NBFCs: Non-Banking Financial Companies operate similarly to banks without a banking license. They offer various ﬁnancial services, including education loans, to Indian students looking to study abroad.International Lenders: These ﬁnancial entities outside India specialize in offering educational funding for international students, including those from India planning to study abroad.Required Documents for' metadata={'source': 'edufund.pdf', 'page': 2}\n",
            "page_content='challenging to obtain due to higher risk for the bank.•Shorter repayment period.•Some repayment may be required during the study period.•Parental income is usually required for approval.Student Loan Options for Indian Students Studying AbroadStudents typically have three types of lenders to consider for education loans to study abroad: banks, Non-Banking Financial Companies (NBFCs), and international lenders.Banks: These traditional ﬁnancial institutions provide education loans to Indian students pursuing studies abroad. They are further categorized into public and private banks.NBFCs: Non-Banking Financial Companies operate similarly to banks without a banking license. They offer various ﬁnancial services, including education loans, to Indian students looking to study abroad.International Lenders: These ﬁnancial entities outside India specialize in offering educational funding for international students, including those from India planning to study abroad.Required Documents for Study' metadata={'source': 'edufund.pdf', 'page': 2}\n",
            "page_content='to obtain due to higher risk for the bank.•Shorter repayment period.•Some repayment may be required during the study period.•Parental income is usually required for approval.Student Loan Options for Indian Students Studying AbroadStudents typically have three types of lenders to consider for education loans to study abroad: banks, Non-Banking Financial Companies (NBFCs), and international lenders.Banks: These traditional ﬁnancial institutions provide education loans to Indian students pursuing studies abroad. They are further categorized into public and private banks.NBFCs: Non-Banking Financial Companies operate similarly to banks without a banking license. They offer various ﬁnancial services, including education loans, to Indian students looking to study abroad.International Lenders: These ﬁnancial entities outside India specialize in offering educational funding for international students, including those from India planning to study abroad.Required Documents for Study Abroad' metadata={'source': 'edufund.pdf', 'page': 2}\n",
            "page_content='due to higher risk for the bank.•Shorter repayment period.•Some repayment may be required during the study period.•Parental income is usually required for approval.Student Loan Options for Indian Students Studying AbroadStudents typically have three types of lenders to consider for education loans to study abroad: banks, Non-Banking Financial Companies (NBFCs), and international lenders.Banks: These traditional ﬁnancial institutions provide education loans to Indian students pursuing studies abroad. They are further categorized into public and private banks.NBFCs: Non-Banking Financial Companies operate similarly to banks without a banking license. They offer various ﬁnancial services, including education loans, to Indian students looking to study abroad.International Lenders: These ﬁnancial entities outside India specialize in offering educational funding for international students, including those from India planning to study abroad.Required Documents for Study Abroad Education' metadata={'source': 'edufund.pdf', 'page': 2}\n",
            "page_content='for the bank.•Shorter repayment period.•Some repayment may be required during the study period.•Parental income is usually required for approval.Student Loan Options for Indian Students Studying AbroadStudents typically have three types of lenders to consider for education loans to study abroad: banks, Non-Banking Financial Companies (NBFCs), and international lenders.Banks: These traditional ﬁnancial institutions provide education loans to Indian students pursuing studies abroad. They are further categorized into public and private banks.NBFCs: Non-Banking Financial Companies operate similarly to banks without a banking license. They offer various ﬁnancial services, including education loans, to Indian students looking to study abroad.International Lenders: These ﬁnancial entities outside India specialize in offering educational funding for international students, including those from India planning to study abroad.Required Documents for Study Abroad Education LoansIdentity-Related' metadata={'source': 'edufund.pdf', 'page': 2}\n",
            "page_content='bank.•Shorter repayment period.•Some repayment may be required during the study period.•Parental income is usually required for approval.Student Loan Options for Indian Students Studying AbroadStudents typically have three types of lenders to consider for education loans to study abroad: banks, Non-Banking Financial Companies (NBFCs), and international lenders.Banks: These traditional ﬁnancial institutions provide education loans to Indian students pursuing studies abroad. They are further categorized into public and private banks.NBFCs: Non-Banking Financial Companies operate similarly to banks without a banking license. They offer various ﬁnancial services, including education loans, to Indian students looking to study abroad.International Lenders: These ﬁnancial entities outside India specialize in offering educational funding for international students, including those from India planning to study abroad.Required Documents for Study Abroad Education LoansIdentity-Related Documents' metadata={'source': 'edufund.pdf', 'page': 2}\n",
            "page_content='repayment period.•Some repayment may be required during the study period.•Parental income is usually required for approval.Student Loan Options for Indian Students Studying AbroadStudents typically have three types of lenders to consider for education loans to study abroad: banks, Non-Banking Financial Companies (NBFCs), and international lenders.Banks: These traditional ﬁnancial institutions provide education loans to Indian students pursuing studies abroad. They are further categorized into public and private banks.NBFCs: Non-Banking Financial Companies operate similarly to banks without a banking license. They offer various ﬁnancial services, including education loans, to Indian students looking to study abroad.International Lenders: These ﬁnancial entities outside India specialize in offering educational funding for international students, including those from India planning to study abroad.Required Documents for Study Abroad Education LoansIdentity-Related Documents From Both' metadata={'source': 'edufund.pdf', 'page': 2}\n",
            "page_content='period.•Some repayment may be required during the study period.•Parental income is usually required for approval.Student Loan Options for Indian Students Studying AbroadStudents typically have three types of lenders to consider for education loans to study abroad: banks, Non-Banking Financial Companies (NBFCs), and international lenders.Banks: These traditional ﬁnancial institutions provide education loans to Indian students pursuing studies abroad. They are further categorized into public and private banks.NBFCs: Non-Banking Financial Companies operate similarly to banks without a banking license. They offer various ﬁnancial services, including education loans, to Indian students looking to study abroad.International Lenders: These ﬁnancial entities outside India specialize in offering educational funding for international students, including those from India planning to study abroad.Required Documents for Study Abroad Education LoansIdentity-Related Documents From Both Applicant &' metadata={'source': 'edufund.pdf', 'page': 2}\n",
            "page_content='repayment may be required during the study period.•Parental income is usually required for approval.Student Loan Options for Indian Students Studying AbroadStudents typically have three types of lenders to consider for education loans to study abroad: banks, Non-Banking Financial Companies (NBFCs), and international lenders.Banks: These traditional ﬁnancial institutions provide education loans to Indian students pursuing studies abroad. They are further categorized into public and private banks.NBFCs: Non-Banking Financial Companies operate similarly to banks without a banking license. They offer various ﬁnancial services, including education loans, to Indian students looking to study abroad.International Lenders: These ﬁnancial entities outside India specialize in offering educational funding for international students, including those from India planning to study abroad.Required Documents for Study Abroad Education LoansIdentity-Related Documents From Both Applicant & Co-applicant (' metadata={'source': 'edufund.pdf', 'page': 2}\n",
            "page_content='may be required during the study period.•Parental income is usually required for approval.Student Loan Options for Indian Students Studying AbroadStudents typically have three types of lenders to consider for education loans to study abroad: banks, Non-Banking Financial Companies (NBFCs), and international lenders.Banks: These traditional ﬁnancial institutions provide education loans to Indian students pursuing studies abroad. They are further categorized into public and private banks.NBFCs: Non-Banking Financial Companies operate similarly to banks without a banking license. They offer various ﬁnancial services, including education loans, to Indian students looking to study abroad.International Lenders: These ﬁnancial entities outside India specialize in offering educational funding for international students, including those from India planning to study abroad.Required Documents for Study Abroad Education LoansIdentity-Related Documents From Both Applicant & Co-applicant ( any of' metadata={'source': 'edufund.pdf', 'page': 2}\n",
            "page_content='be required during the study period.•Parental income is usually required for approval.Student Loan Options for Indian Students Studying AbroadStudents typically have three types of lenders to consider for education loans to study abroad: banks, Non-Banking Financial Companies (NBFCs), and international lenders.Banks: These traditional ﬁnancial institutions provide education loans to Indian students pursuing studies abroad. They are further categorized into public and private banks.NBFCs: Non-Banking Financial Companies operate similarly to banks without a banking license. They offer various ﬁnancial services, including education loans, to Indian students looking to study abroad.International Lenders: These ﬁnancial entities outside India specialize in offering educational funding for international students, including those from India planning to study abroad.Required Documents for Study Abroad Education LoansIdentity-Related Documents From Both Applicant & Co-applicant ( any of these' metadata={'source': 'edufund.pdf', 'page': 2}\n",
            "page_content='during the study period.•Parental income is usually required for approval.Student Loan Options for Indian Students Studying AbroadStudents typically have three types of lenders to consider for education loans to study abroad: banks, Non-Banking Financial Companies (NBFCs), and international lenders.Banks: These traditional ﬁnancial institutions provide education loans to Indian students pursuing studies abroad. They are further categorized into public and private banks.NBFCs: Non-Banking Financial Companies operate similarly to banks without a banking license. They offer various ﬁnancial services, including education loans, to Indian students looking to study abroad.International Lenders: These ﬁnancial entities outside India specialize in offering educational funding for international students, including those from India planning to study abroad.Required Documents for Study Abroad Education LoansIdentity-Related Documents From Both Applicant & Co-applicant ( any of these documents' metadata={'source': 'edufund.pdf', 'page': 2}\n",
            "page_content='the study period.•Parental income is usually required for approval.Student Loan Options for Indian Students Studying AbroadStudents typically have three types of lenders to consider for education loans to study abroad: banks, Non-Banking Financial Companies (NBFCs), and international lenders.Banks: These traditional ﬁnancial institutions provide education loans to Indian students pursuing studies abroad. They are further categorized into public and private banks.NBFCs: Non-Banking Financial Companies operate similarly to banks without a banking license. They offer various ﬁnancial services, including education loans, to Indian students looking to study abroad.International Lenders: These ﬁnancial entities outside India specialize in offering educational funding for international students, including those from India planning to study abroad.Required Documents for Study Abroad Education LoansIdentity-Related Documents From Both Applicant & Co-applicant ( any of these documents mentioned' metadata={'source': 'edufund.pdf', 'page': 2}\n",
            "page_content='period.•Parental income is usually required for approval.Student Loan Options for Indian Students Studying AbroadStudents typically have three types of lenders to consider for education loans to study abroad: banks, Non-Banking Financial Companies (NBFCs), and international lenders.Banks: These traditional ﬁnancial institutions provide education loans to Indian students pursuing studies abroad. They are further categorized into public and private banks.NBFCs: Non-Banking Financial Companies operate similarly to banks without a banking license. They offer various ﬁnancial services, including education loans, to Indian students looking to study abroad.International Lenders: These ﬁnancial entities outside India specialize in offering educational funding for international students, including those from India planning to study abroad.Required Documents for Study Abroad Education LoansIdentity-Related Documents From Both Applicant & Co-applicant ( any of these documents mentioned below )' metadata={'source': 'edufund.pdf', 'page': 2}\n",
            "page_content='•KYC documents•PAN card•Driving license•Aadhar card•Address proof•Aadhar card•Valid water/electricity/LPG bill•Voter’s ID card•Current house lease agreement•Valid passportAcademic Record Documents (From Applicant)•10th result•12th result•Proof of admission•Undergraduate result semester-wise (if required)•Entrance exam result for abroad institutes (GRE, GMAT, TOEFL, IELTS, etc.)Financial Documents from the Co-applicantFor salaried co-applicant•Salary slips of the last 3 months•Copy of Form 16 for the last 2-3 years or copy of IT Returns for the last 2-3 ﬁnancial years, acknowledged by Income Tax Dept.•Bank account statement for the last 6 months (salary account).For self-employed co-applicant•Business address proof (if applicable)•TDS certiﬁcate (Form 16A, if applicable)•Last 3 years ITR•Certiﬁcate of qualiﬁcation (for C.A./Doctor and other professionals)•Bank account statement for the last 6 monthsTechnical Documents for Collateral•Approved layout plan and permissions (if applicable)' metadata={'source': 'edufund.pdf', 'page': 3}\n",
            "page_content='•NOC and allotment letter•Possession certiﬁcate (if applicable)•Copy of prior sale deeds•Conversion certiﬁcate where the property has changed from agricultural to non-agricultural use•Urban clearance certiﬁcateLegal Documents for Collateral•Sale/gift/partition deed•Khata certiﬁcate and extract•Encumbrance certiﬁcate (EC)•Latest property tax receiptWhy apply with EduFund loans?Hassle - free process & Faster approvalsLower Interest Rates & No Hidden ChargesUnsecured Loans up to INR 1 croreLoan approval even without an admit letterNo margin money & Unlimited tax beneﬁt on the interest paidCross collateralization of existing mortgaged collateral' metadata={'source': 'edufund.pdf', 'page': 4}\n",
            "WHAT ARE MUTUAL FUNDS?\n",
            "A mutual fund is a pool of money managed by a professional Fund Manager.\n",
            "It is a trust that collects money from a number of investors who share a common investment objective and invests the same in equities, bonds, money market instruments and/or other securities. And the income / gains generated from this collective investment is distributed proportionately amongst the investors after deducting applicable expenses and levies, by calculating a scheme’s “Net Asset Value” or NAV. Simply put, the money pooled in by a large number of investors is what makes up a Mutual Fund.\n"
          ]
        }
      ],
      "source": [
        "from langchain.text_splitter import RecursiveCharacterTextSplitter\n",
        "\n",
        "# split data\n",
        "text_splitter = RecursiveCharacterTextSplitter(chunk_size=1000,chunk_overlap=1000)\n",
        "docs = text_splitter.split_documents(data)\n",
        "\n",
        "\n",
        "print(\"Total number of documents: \",len(docs))\n",
        "for chunk in docs:\n",
        "    print(chunk)\n",
        "print(docs[0].page_content)"
      ]
    },
    {
      "cell_type": "code",
      "execution_count": null,
      "id": "1073ab7f-2632-4367-8dec-c19449d6ce71",
      "metadata": {
        "colab": {
          "base_uri": "https://localhost:8080/"
        },
        "id": "1073ab7f-2632-4367-8dec-c19449d6ce71",
        "outputId": "10f85783-82cc-4628-f7ee-2a8d03fe3092"
      },
      "outputs": [
        {
          "output_type": "execute_result",
          "data": {
            "text/plain": [
              "0.05168594419956207"
            ]
          },
          "metadata": {},
          "execution_count": 19
        }
      ],
      "source": [
        "from langchain_chroma import Chroma\n",
        "from langchain_google_genai import GoogleGenerativeAIEmbeddings\n",
        "\n",
        "from dotenv import load_dotenv\n",
        "from google.colab import userdata\n",
        "\n",
        "\n",
        "\n",
        "embeddings = GoogleGenerativeAIEmbeddings(model=\"models/embedding-001\",google_api_key=userdata.get('gemini_api'))\n",
        "vector = embeddings.embed_query(\"hello, world!\")\n",
        "len(vector)\n",
        "vector[0]\n"
      ]
    },
    {
      "cell_type": "code",
      "execution_count": null,
      "id": "688b6e6a-d8ab-41fb-a665-b72c9c9b4026",
      "metadata": {
        "id": "688b6e6a-d8ab-41fb-a665-b72c9c9b4026"
      },
      "outputs": [],
      "source": [
        "vectorstore = Chroma.from_documents(documents=docs, embedding=embeddings)"
      ]
    },
    {
      "cell_type": "code",
      "execution_count": null,
      "id": "2c674c5c-1b57-42e9-a99d-9e882c75da2d",
      "metadata": {
        "colab": {
          "base_uri": "https://localhost:8080/"
        },
        "id": "2c674c5c-1b57-42e9-a99d-9e882c75da2d",
        "outputId": "b9435627-ec25-4094-c308-2071c9a3239e"
      },
      "outputs": [
        {
          "output_type": "stream",
          "name": "stdout",
          "text": [
            "WHAT ARE MUTUAL FUNDS?\n",
            "A mutual fund is a pool of money managed by a professional Fund Manager.\n",
            "It is a trust that collects money from a number of investors who share a common investment objective and invests the same in equities, bonds, money market instruments and/or other securities. And the income / gains generated from this collective investment is distributed proportionately amongst the investors after deducting applicable expenses and levies, by calculating a scheme’s “Net Asset Value” or NAV. Simply put, the money pooled in by a large number of investors is what makes up a Mutual Fund.\n"
          ]
        }
      ],
      "source": [
        "retriever = vectorstore.as_retriever(search_type=\"similarity\", search_kwargs={\"k\": 5})\n",
        "\n",
        "retrieved_docs = retriever.invoke(\"What is Mutual funds\")\n",
        "len(retrieved_docs)\n",
        "print(retrieved_docs[0].page_content)"
      ]
    },
    {
      "cell_type": "code",
      "execution_count": 5,
      "id": "7f991a1f-6ce9-4463-9941-b35014df94f6",
      "metadata": {
        "id": "7f991a1f-6ce9-4463-9941-b35014df94f6"
      },
      "outputs": [],
      "source": [
        "from langchain_google_genai import ChatGoogleGenerativeAI\n",
        "\n",
        "llm = ChatGoogleGenerativeAI(model=\"gemini-2.5-flash\",temperature=0.3)"
      ]
    },
    {
      "cell_type": "code",
      "execution_count": null,
      "id": "6ee17439-7bc3-4931-9f57-4ec7e82ce902",
      "metadata": {
        "id": "6ee17439-7bc3-4931-9f57-4ec7e82ce902"
      },
      "outputs": [],
      "source": [
        "from langchain.chains import create_retrieval_chain\n",
        "from langchain.chains.combine_documents import create_stuff_documents_chain\n",
        "from langchain_core.prompts import ChatPromptTemplate\n",
        "\n",
        "system_prompt = (\n",
        "     \"You are a financial expert. Provide clear, concise answers based on the provided context. \"\n",
        "    \"If the information is not found in the context, state that the answer is unavailable. \"\n",
        "    \"Use a maximum of three sentences.\"\n",
        "    \"\\n\\n\"\n",
        "    \"{context}\"\n",
        ")\n",
        "\n",
        "prompt = ChatPromptTemplate.from_messages(\n",
        "    [\n",
        "        (\"system\", system_prompt),\n",
        "        (\"human\", \"{input}\"),\n",
        "    ]\n",
        ")"
      ]
    },
    {
      "cell_type": "code",
      "execution_count": null,
      "id": "266e86e0-746b-4943-9470-fd842633ed85",
      "metadata": {
        "id": "266e86e0-746b-4943-9470-fd842633ed85"
      },
      "outputs": [],
      "source": [
        "question_answer_chain = create_stuff_documents_chain(llm, prompt)\n",
        "rag_chain = create_retrieval_chain(retriever, question_answer_chain)"
      ]
    },
    {
      "cell_type": "code",
      "source": [
        "response=rag_chain.invoke({\"input\":\"What is Mutual funds\"})\n",
        "print(response)"
      ],
      "metadata": {
        "id": "ug_Jo5pZl-Ig"
      },
      "id": "ug_Jo5pZl-Ig",
      "execution_count": null,
      "outputs": []
    }
  ],
  "metadata": {
    "colab": {
      "provenance": [],
      "gpuType": "T4",
      "include_colab_link": true
    },
    "kernelspec": {
      "display_name": "Python 3",
      "name": "python3"
    },
    "language_info": {
      "codemirror_mode": {
        "name": "ipython",
        "version": 3
      },
      "file_extension": ".py",
      "mimetype": "text/x-python",
      "name": "python",
      "nbconvert_exporter": "python",
      "pygments_lexer": "ipython3",
      "version": "3.10.14"
    },
    "accelerator": "GPU"
  },
  "nbformat": 4,
  "nbformat_minor": 5
}